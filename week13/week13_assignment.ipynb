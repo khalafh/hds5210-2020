{
 "cells": [
  {
   "cell_type": "markdown",
   "metadata": {
    "nbgrader": {
     "grade": false,
     "grade_id": "cell-fc1c39d0d6f8b82a",
     "locked": true,
     "schema_version": 1,
     "solution": false
    }
   },
   "source": [
    "# Descriptive Stats\n",
    "\n",
    "For the questions below, we're going to refer exclusively to an HHCAPS survey data set that is available in `/data/hhcaps.csv`.  Use whatever commands you want to calculate the information required to get to the answer.\n",
    "\n",
    "\n",
    "Put your solution as the last line right before the test cell, using the form shown below for computing the number of rows in a dataframe.\n",
    "\n",
    "```\n",
    "answer = my_df.shape[0]\n",
    "```\n",
    "\n",
    "The assertions will often give you what the final answer should be, but you won't receive any points unless you compute the answer using code.  For instance, if you just typed `answer = 132` for the numer of rows instead of `answer = my_df.shape[0]`, you would not receive credit.\n"
   ]
  },
  {
   "cell_type": "code",
   "execution_count": 1,
   "metadata": {
    "nbgrader": {
     "grade": false,
     "grade_id": "intro",
     "locked": true,
     "schema_version": 1,
     "solution": false
    }
   },
   "outputs": [],
   "source": [
    "%matplotlib inline\n",
    "import pandas as pd\n",
    "\n",
    "hhcaps = pd.read_csv('/data/hhcaps.csv')"
   ]
  },
  {
   "cell_type": "markdown",
   "metadata": {
    "nbgrader": {
     "grade": false,
     "grade_id": "q01-intro",
     "locked": true,
     "schema_version": 1,
     "solution": false
    }
   },
   "source": [
    "## #01 - \n",
    "\n",
    "How many columns does this file contain?"
   ]
  },
  {
   "cell_type": "code",
   "execution_count": 2,
   "metadata": {},
   "outputs": [
    {
     "data": {
      "text/plain": [
       "(12000, 39)"
      ]
     },
     "execution_count": 2,
     "metadata": {},
     "output_type": "execute_result"
    }
   ],
   "source": [
    "hhcaps.shape"
   ]
  },
  {
   "cell_type": "code",
   "execution_count": 3,
   "metadata": {
    "nbgrader": {
     "grade": false,
     "grade_id": "q01-solution",
     "locked": false,
     "schema_version": 1,
     "solution": true
    }
   },
   "outputs": [
    {
     "data": {
      "text/plain": [
       "39"
      ]
     },
     "execution_count": 3,
     "metadata": {},
     "output_type": "execute_result"
    }
   ],
   "source": [
    "answer = 39\n",
    "## Solution goes here\n",
    "len(hhcaps.columns)"
   ]
  },
  {
   "cell_type": "code",
   "execution_count": 4,
   "metadata": {
    "nbgrader": {
     "grade": true,
     "grade_id": "q01-test",
     "locked": true,
     "points": 2,
     "schema_version": 1,
     "solution": false
    }
   },
   "outputs": [],
   "source": [
    "assert(type(answer) == int)\n",
    "assert(answer == 39)"
   ]
  },
  {
   "cell_type": "code",
   "execution_count": null,
   "metadata": {},
   "outputs": [],
   "source": []
  },
  {
   "cell_type": "markdown",
   "metadata": {
    "nbgrader": {
     "grade": false,
     "grade_id": "q02-intro",
     "locked": true,
     "schema_version": 1,
     "solution": false
    }
   },
   "source": [
    "## #02 - \n",
    "\n",
    "How many different values for State are there in this file?"
   ]
  },
  {
   "cell_type": "code",
   "execution_count": 5,
   "metadata": {
    "nbgrader": {
     "grade": false,
     "grade_id": "q02-solution",
     "locked": false,
     "schema_version": 1,
     "solution": true
    }
   },
   "outputs": [
    {
     "data": {
      "text/plain": [
       "55"
      ]
     },
     "execution_count": 5,
     "metadata": {},
     "output_type": "execute_result"
    }
   ],
   "source": [
    "answer = 55\n",
    "\n",
    "## Solution goes here\n",
    "len(hhcaps.State.unique())"
   ]
  },
  {
   "cell_type": "code",
   "execution_count": 6,
   "metadata": {
    "nbgrader": {
     "grade": true,
     "grade_id": "q02-test",
     "locked": true,
     "points": 2,
     "schema_version": 1,
     "solution": false
    }
   },
   "outputs": [],
   "source": [
    "assert(type(answer) == int)\n",
    "assert(answer == 55)"
   ]
  },
  {
   "cell_type": "code",
   "execution_count": null,
   "metadata": {},
   "outputs": [],
   "source": []
  },
  {
   "cell_type": "markdown",
   "metadata": {
    "nbgrader": {
     "grade": false,
     "grade_id": "q03-intro",
     "locked": true,
     "schema_version": 1,
     "solution": false
    }
   },
   "source": [
    "## #03 - \n",
    "\n",
    "Which of those State values has the highest frequency of occurence?"
   ]
  },
  {
   "cell_type": "code",
   "execution_count": 7,
   "metadata": {
    "nbgrader": {
     "grade": false,
     "grade_id": "q03-solution",
     "locked": false,
     "schema_version": 1,
     "solution": true
    }
   },
   "outputs": [
    {
     "data": {
      "text/plain": [
       "TX    2518\n",
       "CA    1319\n",
       "FL    1069\n",
       "OH     781\n",
       "IL     735\n",
       "MI     597\n",
       "PA     425\n",
       "MA     261\n",
       "OK     256\n",
       "VA     244\n",
       "IN     229\n",
       "MN     197\n",
       "LA     195\n",
       "CO     187\n",
       "NC     174\n",
       "AR     172\n",
       "AZ     169\n",
       "MO     169\n",
       "IA     163\n",
       "AL     152\n",
       "NV     143\n",
       "NY     141\n",
       "TN     140\n",
       "WI     119\n",
       "KS     117\n",
       "GA     106\n",
       "KY     104\n",
       "UT      98\n",
       "CT      91\n",
       "NM      77\n",
       "NE      75\n",
       "SC      70\n",
       "WA      63\n",
       "WV      61\n",
       "OR      57\n",
       "MD      53\n",
       "MS      48\n",
       "NJ      47\n",
       "ID      45\n",
       "PR      45\n",
       "SD      33\n",
       "NH      31\n",
       "DC      28\n",
       "MT      27\n",
       "RI      27\n",
       "DE      26\n",
       "WY      26\n",
       "ME      24\n",
       "ND      18\n",
       "HI      16\n",
       "AK      14\n",
       "VT      11\n",
       "GU       4\n",
       "MP       2\n",
       "VI       1\n",
       "Name: State, dtype: int64"
      ]
     },
     "execution_count": 7,
     "metadata": {},
     "output_type": "execute_result"
    }
   ],
   "source": [
    "answer = 'TX'\n",
    "## Solution goes here\n",
    "hhcaps['State'].value_counts()"
   ]
  },
  {
   "cell_type": "code",
   "execution_count": 8,
   "metadata": {
    "nbgrader": {
     "grade": true,
     "grade_id": "q03-test",
     "locked": true,
     "points": 2,
     "schema_version": 1,
     "solution": false
    }
   },
   "outputs": [],
   "source": [
    "assert(type(answer) == str)\n",
    "assert(answer == 'TX')"
   ]
  },
  {
   "cell_type": "code",
   "execution_count": null,
   "metadata": {},
   "outputs": [],
   "source": []
  },
  {
   "cell_type": "markdown",
   "metadata": {
    "nbgrader": {
     "grade": false,
     "grade_id": "q04-intro",
     "locked": true,
     "schema_version": 1,
     "solution": false
    }
   },
   "source": [
    "## #04 - \n",
    "\n",
    "Which of those State values has the best average performance on the `Star Rating for health team communicated well with them` score?"
   ]
  },
  {
   "cell_type": "code",
   "execution_count": 9,
   "metadata": {
    "nbgrader": {
     "grade": false,
     "grade_id": "q04-solution",
     "locked": false,
     "schema_version": 1,
     "solution": true
    }
   },
   "outputs": [
    {
     "data": {
      "text/plain": [
       "State\n",
       "ME    4.650000\n",
       "WV    4.647059\n",
       "MS    4.636364\n",
       "AL    4.507692\n",
       "LA    4.487805\n",
       "KY    4.484536\n",
       "AR    4.384615\n",
       "TN    4.372881\n",
       "MT    4.333333\n",
       "SC    4.333333\n",
       "MO    4.300885\n",
       "VT    4.272727\n",
       "ND    4.250000\n",
       "NE    4.250000\n",
       "IA    4.204082\n",
       "SD    4.166667\n",
       "KS    4.166667\n",
       "PA    4.148325\n",
       "NC    4.138158\n",
       "NH    4.136364\n",
       "OK    4.128655\n",
       "WI    4.101449\n",
       "IN    4.030075\n",
       "VI    4.000000\n",
       "ID    3.972222\n",
       "RI    3.947368\n",
       "GA    3.917526\n",
       "VA    3.865772\n",
       "DE    3.846154\n",
       "WY    3.833333\n",
       "NJ    3.833333\n",
       "HI    3.818182\n",
       "MA    3.817308\n",
       "TX    3.811648\n",
       "CO    3.770833\n",
       "MI    3.716279\n",
       "NM    3.714286\n",
       "MD    3.695652\n",
       "IL    3.667820\n",
       "OH    3.666667\n",
       "FL    3.645228\n",
       "WA    3.642857\n",
       "UT    3.603774\n",
       "CT    3.550725\n",
       "MN    3.544554\n",
       "AK    3.500000\n",
       "OR    3.409091\n",
       "NY    3.378641\n",
       "AZ    3.277108\n",
       "CA    3.104508\n",
       "NV    3.000000\n",
       "PR    2.846154\n",
       "DC    2.000000\n",
       "GU         NaN\n",
       "MP         NaN\n",
       "Name: Star Rating for health team communicated well with them, dtype: float64"
      ]
     },
     "execution_count": 9,
     "metadata": {},
     "output_type": "execute_result"
    }
   ],
   "source": [
    "answer = 'ME'\n",
    "\n",
    "## Solution goes here\n",
    "best = hhcaps.groupby(\"State\")[\"Star Rating for health team communicated well with them\"].mean().sort_values(ascending=False)\n",
    "best\n"
   ]
  },
  {
   "cell_type": "code",
   "execution_count": 10,
   "metadata": {
    "nbgrader": {
     "grade": true,
     "grade_id": "q04-test",
     "locked": true,
     "points": 2,
     "schema_version": 1,
     "solution": false
    }
   },
   "outputs": [],
   "source": [
    "assert(type(answer) == str)\n",
    "assert(answer == 'ME')"
   ]
  },
  {
   "cell_type": "code",
   "execution_count": null,
   "metadata": {},
   "outputs": [],
   "source": []
  },
  {
   "cell_type": "markdown",
   "metadata": {
    "nbgrader": {
     "grade": false,
     "grade_id": "q05-intro",
     "locked": true,
     "schema_version": 1,
     "solution": false
    }
   },
   "source": [
    "## #05 - \n",
    "\n",
    "What was the average score on `Star Rating for how patients rated overall care from agency` for providers listed as having a `Type of Ownership` of `Hospital Based Program`"
   ]
  },
  {
   "cell_type": "code",
   "execution_count": 11,
   "metadata": {
    "nbgrader": {
     "grade": false,
     "grade_id": "q05-solution",
     "locked": false,
     "schema_version": 1,
     "solution": true
    }
   },
   "outputs": [
    {
     "data": {
      "text/plain": [
       "3.6925207756232687"
      ]
     },
     "execution_count": 11,
     "metadata": {},
     "output_type": "execute_result"
    }
   ],
   "source": [
    "answer = 3.6925207756232687\n",
    "\n",
    "## Solution goes here\n",
    "Rating = hhcaps.groupby(\"Type of Ownership\")[\"Star Rating for how patients rated overall care from agency\"].mean()\n",
    "Rating['Hospital Based Program']\n"
   ]
  },
  {
   "cell_type": "code",
   "execution_count": 12,
   "metadata": {
    "nbgrader": {
     "grade": true,
     "grade_id": "q05-test",
     "locked": true,
     "points": 2,
     "schema_version": 1,
     "solution": false
    }
   },
   "outputs": [],
   "source": [
    "import numpy\n",
    "assert(type(answer) == float or type(answer) == numpy.float64)\n",
    "assert(round(answer,5) == round(3.6925207756232687,5))\n"
   ]
  },
  {
   "cell_type": "code",
   "execution_count": null,
   "metadata": {},
   "outputs": [],
   "source": []
  },
  {
   "cell_type": "markdown",
   "metadata": {
    "nbgrader": {
     "grade": false,
     "grade_id": "q06-intro",
     "locked": true,
     "schema_version": 1,
     "solution": false
    }
   },
   "source": [
    "## #06 - \n",
    "\n",
    "There is one column in the file that has the same value on every row.  What is the name of that column?"
   ]
  },
  {
   "cell_type": "code",
   "execution_count": 13,
   "metadata": {
    "nbgrader": {
     "grade": false,
     "grade_id": "q06-solution",
     "locked": false,
     "schema_version": 1,
     "solution": true
    }
   },
   "outputs": [
    {
     "data": {
      "text/plain": [
       "State                                                                                                                                   55\n",
       "CMS Certification Number (CCN)*                                                                                                      12000\n",
       "Provider Name                                                                                                                        10394\n",
       "Address                                                                                                                              11961\n",
       "City                                                                                                                                  3008\n",
       "Zip                                                                                                                                   5244\n",
       "Phone                                                                                                                                11896\n",
       "Type of Ownership                                                                                                                        7\n",
       "Offers Nursing Care Services                                                                                                             1\n",
       "Offers Physical Therapy Services                                                                                                         2\n",
       "Offers Occupational Therapy Services                                                                                                     2\n",
       "Offers Speech Pathology Services                                                                                                         2\n",
       "Offers Medical Social Services                                                                                                           2\n",
       "Offers Home Health Aide Services                                                                                                         2\n",
       "Date Certified                                                                                                                        6387\n",
       "HHCAHPS Survey Summary Star Rating                                                                                                       5\n",
       "Footnote HHCAHPS Survey Summary Star Rating                                                                                              5\n",
       "Star Rating for health team gave care in a professional way                                                                              5\n",
       "Footnote for Star Rating for gave care in a professional way                                                                             5\n",
       "Percent of patients who reported that their home health team gave care in a professional way                                            58\n",
       "Footnote for percent of patients who reported that their home health team gave care in a professional way                                5\n",
       "Star Rating for health team communicated well with them                                                                                  5\n",
       "Footnote for Star Rating for communicated well with them                                                                                 5\n",
       "Percent of patients who reported that their home health team communicated well with them                                                61\n",
       "Footnote for percent of patients who reported that their home health team communicated well with them                                    5\n",
       "Star Rating team discussed medicines, pain, and home safety                                                                              5\n",
       "Footnote Star Rating discussed medicines, pain, home safety                                                                              5\n",
       "Percent of patients who reported that their home health team discussed medicines, pain, and home safety with them                       61\n",
       "Footnote for percent of patients who reported that their home health team discussed medicines, pain, and home safety with them           5\n",
       "Star Rating for how patients rated overall care from agency                                                                              5\n",
       "Footnote for Star Rating for overall care from agency                                                                                    5\n",
       "Percent of patients who gave their home health agency a rating of 9 or 10 on a scale from 0 (lowest) to 10 (highest)                    82\n",
       "Footnote for percent of patients who gave their home health agency a rating of 9 or 10 on a scale from 0 (lowest) to 10 (highest)        5\n",
       "Percent of patients who reported YES, they would definitely recommend the home health agency to friends and family                      82\n",
       "Footnote for percent of patients who reported YES, they would definitely recommend the home health agency to friends and family          5\n",
       "Number of completed Surveys                                                                                                            659\n",
       "Footnote for number of completed surveys                                                                                                 5\n",
       "Response rate                                                                                                                           74\n",
       "Footnote for response rate                                                                                                               5\n",
       "dtype: int64"
      ]
     },
     "execution_count": 13,
     "metadata": {},
     "output_type": "execute_result"
    }
   ],
   "source": [
    "answer = 'Offers Nursing Care Services'\n",
    "\n",
    "## Solution goes here\n",
    "hhcaps.nunique()\n"
   ]
  },
  {
   "cell_type": "code",
   "execution_count": 14,
   "metadata": {
    "nbgrader": {
     "grade": true,
     "grade_id": "q06-test",
     "locked": true,
     "points": 2,
     "schema_version": 1,
     "solution": false
    }
   },
   "outputs": [],
   "source": [
    "assert(type(answer) == str)\n",
    "assert(answer.lower() == 'Offers Nursing Care Services'.lower())\n"
   ]
  },
  {
   "cell_type": "code",
   "execution_count": null,
   "metadata": {},
   "outputs": [],
   "source": []
  },
  {
   "cell_type": "markdown",
   "metadata": {
    "nbgrader": {
     "grade": false,
     "grade_id": "q07-intro",
     "locked": true,
     "schema_version": 1,
     "solution": false
    }
   },
   "source": [
    "## #07 - \n",
    "\n",
    "There are six (6) columns in the file that indicate (True or False) if the provider offers certain services.  Those column names all start with `Offers...`.  How many facilities offer **everything** that the survey was interested in asking about?  That is, how many rows have True in all six of those columns?"
   ]
  },
  {
   "cell_type": "code",
   "execution_count": 15,
   "metadata": {
    "nbgrader": {
     "grade": false,
     "grade_id": "q07-solution",
     "locked": false,
     "schema_version": 1,
     "solution": true
    }
   },
   "outputs": [
    {
     "data": {
      "text/html": [
       "<div>\n",
       "<style scoped>\n",
       "    .dataframe tbody tr th:only-of-type {\n",
       "        vertical-align: middle;\n",
       "    }\n",
       "\n",
       "    .dataframe tbody tr th {\n",
       "        vertical-align: top;\n",
       "    }\n",
       "\n",
       "    .dataframe thead th {\n",
       "        text-align: right;\n",
       "    }\n",
       "</style>\n",
       "<table border=\"1\" class=\"dataframe\">\n",
       "  <thead>\n",
       "    <tr style=\"text-align: right;\">\n",
       "      <th></th>\n",
       "      <th>State</th>\n",
       "      <th>CMS Certification Number (CCN)*</th>\n",
       "      <th>Provider Name</th>\n",
       "      <th>Address</th>\n",
       "      <th>City</th>\n",
       "      <th>Zip</th>\n",
       "      <th>Phone</th>\n",
       "      <th>Type of Ownership</th>\n",
       "      <th>Offers Nursing Care Services</th>\n",
       "      <th>Offers Physical Therapy Services</th>\n",
       "      <th>...</th>\n",
       "      <th>Star Rating for how patients rated overall care from agency</th>\n",
       "      <th>Footnote for Star Rating for overall care from agency</th>\n",
       "      <th>Percent of patients who gave their home health agency a rating of 9 or 10 on a scale from 0 (lowest) to 10 (highest)</th>\n",
       "      <th>Footnote for percent of patients who gave their home health agency a rating of 9 or 10 on a scale from 0 (lowest) to 10 (highest)</th>\n",
       "      <th>Percent of patients who reported YES, they would definitely recommend the home health agency to friends and family</th>\n",
       "      <th>Footnote for percent of patients who reported YES, they would definitely recommend the home health agency to friends and family</th>\n",
       "      <th>Number of completed Surveys</th>\n",
       "      <th>Footnote for number of completed surveys</th>\n",
       "      <th>Response rate</th>\n",
       "      <th>Footnote for response rate</th>\n",
       "    </tr>\n",
       "  </thead>\n",
       "  <tbody>\n",
       "    <tr>\n",
       "      <th>0</th>\n",
       "      <td>AL</td>\n",
       "      <td>17000</td>\n",
       "      <td>BUREAU OF HOME &amp; COMMUNITY SERVICES           ...</td>\n",
       "      <td>201 MONROE STREET, THE RSA TOWER,  SUITE 1200 ...</td>\n",
       "      <td>MONTGOMERY</td>\n",
       "      <td>36104</td>\n",
       "      <td>3342065341</td>\n",
       "      <td>Official Health Agency</td>\n",
       "      <td>True</td>\n",
       "      <td>True</td>\n",
       "      <td>...</td>\n",
       "      <td>NaN</td>\n",
       "      <td>No survey results are available for this period.</td>\n",
       "      <td>Not Available</td>\n",
       "      <td>No survey results are available for this period.</td>\n",
       "      <td>Not Available</td>\n",
       "      <td>No survey results are available for this period.</td>\n",
       "      <td>Not Available</td>\n",
       "      <td>No survey results are available for this period.</td>\n",
       "      <td>Not Available</td>\n",
       "      <td>No survey results are available for this period.</td>\n",
       "    </tr>\n",
       "    <tr>\n",
       "      <th>1</th>\n",
       "      <td>AL</td>\n",
       "      <td>17008</td>\n",
       "      <td>JEFFERSON COUNTY HOME CARE                    ...</td>\n",
       "      <td>2201 ARLINGTON AVENUE                         ...</td>\n",
       "      <td>BESSEMER</td>\n",
       "      <td>35020</td>\n",
       "      <td>2059169500</td>\n",
       "      <td>Official Health Agency</td>\n",
       "      <td>True</td>\n",
       "      <td>True</td>\n",
       "      <td>...</td>\n",
       "      <td>4.0</td>\n",
       "      <td>Fewer than 100 patients completed the survey. ...</td>\n",
       "      <td>91</td>\n",
       "      <td>Fewer than 100 patients completed the survey. ...</td>\n",
       "      <td>77</td>\n",
       "      <td>Fewer than 100 patients completed the survey. ...</td>\n",
       "      <td>55</td>\n",
       "      <td>Fewer than 100 patients completed the survey. ...</td>\n",
       "      <td>23</td>\n",
       "      <td>Fewer than 100 patients completed the survey. ...</td>\n",
       "    </tr>\n",
       "    <tr>\n",
       "      <th>2</th>\n",
       "      <td>AL</td>\n",
       "      <td>17009</td>\n",
       "      <td>ALACARE HOME HEALTH &amp; HOSPICE                 ...</td>\n",
       "      <td>2970 LORNA ROAD                               ...</td>\n",
       "      <td>BIRMINGHAM</td>\n",
       "      <td>35216</td>\n",
       "      <td>2058242680</td>\n",
       "      <td>Local</td>\n",
       "      <td>True</td>\n",
       "      <td>True</td>\n",
       "      <td>...</td>\n",
       "      <td>4.0</td>\n",
       "      <td>NaN</td>\n",
       "      <td>88</td>\n",
       "      <td>NaN</td>\n",
       "      <td>81</td>\n",
       "      <td>NaN</td>\n",
       "      <td>327</td>\n",
       "      <td>NaN</td>\n",
       "      <td>32</td>\n",
       "      <td>NaN</td>\n",
       "    </tr>\n",
       "    <tr>\n",
       "      <th>4</th>\n",
       "      <td>AL</td>\n",
       "      <td>17014</td>\n",
       "      <td>AMEDISYS HOME HEALTH                          ...</td>\n",
       "      <td>68278 MAIN STREET                             ...</td>\n",
       "      <td>BLOUNTSVILLE</td>\n",
       "      <td>35031</td>\n",
       "      <td>2054294919</td>\n",
       "      <td>Local</td>\n",
       "      <td>True</td>\n",
       "      <td>True</td>\n",
       "      <td>...</td>\n",
       "      <td>4.0</td>\n",
       "      <td>NaN</td>\n",
       "      <td>88</td>\n",
       "      <td>NaN</td>\n",
       "      <td>79</td>\n",
       "      <td>NaN</td>\n",
       "      <td>205</td>\n",
       "      <td>NaN</td>\n",
       "      <td>34</td>\n",
       "      <td>NaN</td>\n",
       "    </tr>\n",
       "    <tr>\n",
       "      <th>6</th>\n",
       "      <td>AL</td>\n",
       "      <td>17017</td>\n",
       "      <td>SOUTHERN RURAL HEALTH CARE                    ...</td>\n",
       "      <td>508 ST CLAIR STREET SE                        ...</td>\n",
       "      <td>RUSSELLVILLE</td>\n",
       "      <td>35653</td>\n",
       "      <td>2563321631</td>\n",
       "      <td>Local</td>\n",
       "      <td>True</td>\n",
       "      <td>True</td>\n",
       "      <td>...</td>\n",
       "      <td>NaN</td>\n",
       "      <td>No survey results are available for this period.</td>\n",
       "      <td>Not Available</td>\n",
       "      <td>No survey results are available for this period.</td>\n",
       "      <td>Not Available</td>\n",
       "      <td>No survey results are available for this period.</td>\n",
       "      <td>Not Available</td>\n",
       "      <td>No survey results are available for this period.</td>\n",
       "      <td>Not Available</td>\n",
       "      <td>No survey results are available for this period.</td>\n",
       "    </tr>\n",
       "    <tr>\n",
       "      <th>...</th>\n",
       "      <td>...</td>\n",
       "      <td>...</td>\n",
       "      <td>...</td>\n",
       "      <td>...</td>\n",
       "      <td>...</td>\n",
       "      <td>...</td>\n",
       "      <td>...</td>\n",
       "      <td>...</td>\n",
       "      <td>...</td>\n",
       "      <td>...</td>\n",
       "      <td>...</td>\n",
       "      <td>...</td>\n",
       "      <td>...</td>\n",
       "      <td>...</td>\n",
       "      <td>...</td>\n",
       "      <td>...</td>\n",
       "      <td>...</td>\n",
       "      <td>...</td>\n",
       "      <td>...</td>\n",
       "      <td>...</td>\n",
       "      <td>...</td>\n",
       "    </tr>\n",
       "    <tr>\n",
       "      <th>11991</th>\n",
       "      <td>TX</td>\n",
       "      <td>747974</td>\n",
       "      <td>GENEROUS HOME CARE MANAGEMENT, LLC            ...</td>\n",
       "      <td>5710 W INTERSTATE 10 STE 1                    ...</td>\n",
       "      <td>SAN ANTONIO</td>\n",
       "      <td>78201</td>\n",
       "      <td>2102395056</td>\n",
       "      <td>Local</td>\n",
       "      <td>True</td>\n",
       "      <td>True</td>\n",
       "      <td>...</td>\n",
       "      <td>NaN</td>\n",
       "      <td>No survey results are available for this period.</td>\n",
       "      <td>Not Available</td>\n",
       "      <td>No survey results are available for this period.</td>\n",
       "      <td>Not Available</td>\n",
       "      <td>No survey results are available for this period.</td>\n",
       "      <td>Not Available</td>\n",
       "      <td>No survey results are available for this period.</td>\n",
       "      <td>Not Available</td>\n",
       "      <td>No survey results are available for this period.</td>\n",
       "    </tr>\n",
       "    <tr>\n",
       "      <th>11992</th>\n",
       "      <td>TX</td>\n",
       "      <td>747975</td>\n",
       "      <td>QUALICARE HOME HEALTH LLC                     ...</td>\n",
       "      <td>1800 SHILOH ROAD BLD 1 STE 205                ...</td>\n",
       "      <td>TYLER</td>\n",
       "      <td>75703</td>\n",
       "      <td>9034229991</td>\n",
       "      <td>Local</td>\n",
       "      <td>True</td>\n",
       "      <td>True</td>\n",
       "      <td>...</td>\n",
       "      <td>NaN</td>\n",
       "      <td>No survey results are available for this period.</td>\n",
       "      <td>Not Available</td>\n",
       "      <td>No survey results are available for this period.</td>\n",
       "      <td>Not Available</td>\n",
       "      <td>No survey results are available for this period.</td>\n",
       "      <td>Not Available</td>\n",
       "      <td>No survey results are available for this period.</td>\n",
       "      <td>Not Available</td>\n",
       "      <td>No survey results are available for this period.</td>\n",
       "    </tr>\n",
       "    <tr>\n",
       "      <th>11993</th>\n",
       "      <td>TX</td>\n",
       "      <td>747976</td>\n",
       "      <td>365CARE HOME HEALTH LLC                       ...</td>\n",
       "      <td>4090 CLEVELAND AVENUE                         ...</td>\n",
       "      <td>GROVES</td>\n",
       "      <td>77619</td>\n",
       "      <td>4095480036</td>\n",
       "      <td>Local</td>\n",
       "      <td>True</td>\n",
       "      <td>True</td>\n",
       "      <td>...</td>\n",
       "      <td>NaN</td>\n",
       "      <td>No survey results are available for this period.</td>\n",
       "      <td>Not Available</td>\n",
       "      <td>No survey results are available for this period.</td>\n",
       "      <td>Not Available</td>\n",
       "      <td>No survey results are available for this period.</td>\n",
       "      <td>Not Available</td>\n",
       "      <td>No survey results are available for this period.</td>\n",
       "      <td>Not Available</td>\n",
       "      <td>No survey results are available for this period.</td>\n",
       "    </tr>\n",
       "    <tr>\n",
       "      <th>11998</th>\n",
       "      <td>TX</td>\n",
       "      <td>747981</td>\n",
       "      <td>CMB HEALTHCARE, INCORPORATED                  ...</td>\n",
       "      <td>1400 8TH STREET SUITE 6B                      ...</td>\n",
       "      <td>BAY CITY</td>\n",
       "      <td>77414</td>\n",
       "      <td>8323875358</td>\n",
       "      <td>Local</td>\n",
       "      <td>True</td>\n",
       "      <td>True</td>\n",
       "      <td>...</td>\n",
       "      <td>NaN</td>\n",
       "      <td>No survey results are available for this period.</td>\n",
       "      <td>Not Available</td>\n",
       "      <td>No survey results are available for this period.</td>\n",
       "      <td>Not Available</td>\n",
       "      <td>No survey results are available for this period.</td>\n",
       "      <td>Not Available</td>\n",
       "      <td>No survey results are available for this period.</td>\n",
       "      <td>Not Available</td>\n",
       "      <td>No survey results are available for this period.</td>\n",
       "    </tr>\n",
       "    <tr>\n",
       "      <th>11999</th>\n",
       "      <td>TX</td>\n",
       "      <td>747982</td>\n",
       "      <td>LILY HOME HEALTH INC                          ...</td>\n",
       "      <td>234 MEYER STREET SUITE P                      ...</td>\n",
       "      <td>SEALY</td>\n",
       "      <td>77474</td>\n",
       "      <td>9792534938</td>\n",
       "      <td>Local</td>\n",
       "      <td>True</td>\n",
       "      <td>True</td>\n",
       "      <td>...</td>\n",
       "      <td>NaN</td>\n",
       "      <td>No survey results are available for this period.</td>\n",
       "      <td>Not Available</td>\n",
       "      <td>No survey results are available for this period.</td>\n",
       "      <td>Not Available</td>\n",
       "      <td>No survey results are available for this period.</td>\n",
       "      <td>Not Available</td>\n",
       "      <td>No survey results are available for this period.</td>\n",
       "      <td>Not Available</td>\n",
       "      <td>No survey results are available for this period.</td>\n",
       "    </tr>\n",
       "  </tbody>\n",
       "</table>\n",
       "<p>9029 rows × 39 columns</p>\n",
       "</div>"
      ],
      "text/plain": [
       "      State  CMS Certification Number (CCN)*  \\\n",
       "0        AL                            17000   \n",
       "1        AL                            17008   \n",
       "2        AL                            17009   \n",
       "4        AL                            17014   \n",
       "6        AL                            17017   \n",
       "...     ...                              ...   \n",
       "11991    TX                           747974   \n",
       "11992    TX                           747975   \n",
       "11993    TX                           747976   \n",
       "11998    TX                           747981   \n",
       "11999    TX                           747982   \n",
       "\n",
       "                                           Provider Name  \\\n",
       "0      BUREAU OF HOME & COMMUNITY SERVICES           ...   \n",
       "1      JEFFERSON COUNTY HOME CARE                    ...   \n",
       "2      ALACARE HOME HEALTH & HOSPICE                 ...   \n",
       "4      AMEDISYS HOME HEALTH                          ...   \n",
       "6      SOUTHERN RURAL HEALTH CARE                    ...   \n",
       "...                                                  ...   \n",
       "11991  GENEROUS HOME CARE MANAGEMENT, LLC            ...   \n",
       "11992  QUALICARE HOME HEALTH LLC                     ...   \n",
       "11993  365CARE HOME HEALTH LLC                       ...   \n",
       "11998  CMB HEALTHCARE, INCORPORATED                  ...   \n",
       "11999  LILY HOME HEALTH INC                          ...   \n",
       "\n",
       "                                                 Address  \\\n",
       "0      201 MONROE STREET, THE RSA TOWER,  SUITE 1200 ...   \n",
       "1      2201 ARLINGTON AVENUE                         ...   \n",
       "2      2970 LORNA ROAD                               ...   \n",
       "4      68278 MAIN STREET                             ...   \n",
       "6      508 ST CLAIR STREET SE                        ...   \n",
       "...                                                  ...   \n",
       "11991  5710 W INTERSTATE 10 STE 1                    ...   \n",
       "11992  1800 SHILOH ROAD BLD 1 STE 205                ...   \n",
       "11993  4090 CLEVELAND AVENUE                         ...   \n",
       "11998  1400 8TH STREET SUITE 6B                      ...   \n",
       "11999  234 MEYER STREET SUITE P                      ...   \n",
       "\n",
       "                       City    Zip       Phone       Type of Ownership  \\\n",
       "0      MONTGOMERY            36104  3342065341  Official Health Agency   \n",
       "1      BESSEMER              35020  2059169500  Official Health Agency   \n",
       "2      BIRMINGHAM            35216  2058242680                   Local   \n",
       "4      BLOUNTSVILLE          35031  2054294919                   Local   \n",
       "6      RUSSELLVILLE          35653  2563321631                   Local   \n",
       "...                     ...    ...         ...                     ...   \n",
       "11991  SAN ANTONIO           78201  2102395056                   Local   \n",
       "11992  TYLER                 75703  9034229991                   Local   \n",
       "11993  GROVES                77619  4095480036                   Local   \n",
       "11998  BAY CITY              77414  8323875358                   Local   \n",
       "11999  SEALY                 77474  9792534938                   Local   \n",
       "\n",
       "       Offers Nursing Care Services  Offers Physical Therapy Services  ...  \\\n",
       "0                              True                              True  ...   \n",
       "1                              True                              True  ...   \n",
       "2                              True                              True  ...   \n",
       "4                              True                              True  ...   \n",
       "6                              True                              True  ...   \n",
       "...                             ...                               ...  ...   \n",
       "11991                          True                              True  ...   \n",
       "11992                          True                              True  ...   \n",
       "11993                          True                              True  ...   \n",
       "11998                          True                              True  ...   \n",
       "11999                          True                              True  ...   \n",
       "\n",
       "       Star Rating for how patients rated overall care from agency  \\\n",
       "0                                                    NaN             \n",
       "1                                                    4.0             \n",
       "2                                                    4.0             \n",
       "4                                                    4.0             \n",
       "6                                                    NaN             \n",
       "...                                                  ...             \n",
       "11991                                                NaN             \n",
       "11992                                                NaN             \n",
       "11993                                                NaN             \n",
       "11998                                                NaN             \n",
       "11999                                                NaN             \n",
       "\n",
       "       Footnote for Star Rating for overall care from agency  \\\n",
       "0       No survey results are available for this period.       \n",
       "1      Fewer than 100 patients completed the survey. ...       \n",
       "2                                                    NaN       \n",
       "4                                                    NaN       \n",
       "6       No survey results are available for this period.       \n",
       "...                                                  ...       \n",
       "11991   No survey results are available for this period.       \n",
       "11992   No survey results are available for this period.       \n",
       "11993   No survey results are available for this period.       \n",
       "11998   No survey results are available for this period.       \n",
       "11999   No survey results are available for this period.       \n",
       "\n",
       "       Percent of patients who gave their home health agency a rating of 9 or 10 on a scale from 0 (lowest) to 10 (highest)  \\\n",
       "0                                          Not Available                                                                      \n",
       "1                                                     91                                                                      \n",
       "2                                                     88                                                                      \n",
       "4                                                     88                                                                      \n",
       "6                                          Not Available                                                                      \n",
       "...                                                  ...                                                                      \n",
       "11991                                      Not Available                                                                      \n",
       "11992                                      Not Available                                                                      \n",
       "11993                                      Not Available                                                                      \n",
       "11998                                      Not Available                                                                      \n",
       "11999                                      Not Available                                                                      \n",
       "\n",
       "       Footnote for percent of patients who gave their home health agency a rating of 9 or 10 on a scale from 0 (lowest) to 10 (highest)  \\\n",
       "0       No survey results are available for this period.                                                                                   \n",
       "1      Fewer than 100 patients completed the survey. ...                                                                                   \n",
       "2                                                    NaN                                                                                   \n",
       "4                                                    NaN                                                                                   \n",
       "6       No survey results are available for this period.                                                                                   \n",
       "...                                                  ...                                                                                   \n",
       "11991   No survey results are available for this period.                                                                                   \n",
       "11992   No survey results are available for this period.                                                                                   \n",
       "11993   No survey results are available for this period.                                                                                   \n",
       "11998   No survey results are available for this period.                                                                                   \n",
       "11999   No survey results are available for this period.                                                                                   \n",
       "\n",
       "      Percent of patients who reported YES, they would definitely recommend the home health agency to friends and family  \\\n",
       "0                                          Not Available                                                                   \n",
       "1                                                     77                                                                   \n",
       "2                                                     81                                                                   \n",
       "4                                                     79                                                                   \n",
       "6                                          Not Available                                                                   \n",
       "...                                                  ...                                                                   \n",
       "11991                                      Not Available                                                                   \n",
       "11992                                      Not Available                                                                   \n",
       "11993                                      Not Available                                                                   \n",
       "11998                                      Not Available                                                                   \n",
       "11999                                      Not Available                                                                   \n",
       "\n",
       "       Footnote for percent of patients who reported YES, they would definitely recommend the home health agency to friends and family  \\\n",
       "0       No survey results are available for this period.                                                                                 \n",
       "1      Fewer than 100 patients completed the survey. ...                                                                                 \n",
       "2                                                    NaN                                                                                 \n",
       "4                                                    NaN                                                                                 \n",
       "6       No survey results are available for this period.                                                                                 \n",
       "...                                                  ...                                                                                 \n",
       "11991   No survey results are available for this period.                                                                                 \n",
       "11992   No survey results are available for this period.                                                                                 \n",
       "11993   No survey results are available for this period.                                                                                 \n",
       "11998   No survey results are available for this period.                                                                                 \n",
       "11999   No survey results are available for this period.                                                                                 \n",
       "\n",
       "      Number of completed Surveys  \\\n",
       "0                   Not Available   \n",
       "1                              55   \n",
       "2                             327   \n",
       "4                             205   \n",
       "6                   Not Available   \n",
       "...                           ...   \n",
       "11991               Not Available   \n",
       "11992               Not Available   \n",
       "11993               Not Available   \n",
       "11998               Not Available   \n",
       "11999               Not Available   \n",
       "\n",
       "                Footnote for number of completed surveys  Response rate  \\\n",
       "0       No survey results are available for this period.  Not Available   \n",
       "1      Fewer than 100 patients completed the survey. ...             23   \n",
       "2                                                    NaN             32   \n",
       "4                                                    NaN             34   \n",
       "6       No survey results are available for this period.  Not Available   \n",
       "...                                                  ...            ...   \n",
       "11991   No survey results are available for this period.  Not Available   \n",
       "11992   No survey results are available for this period.  Not Available   \n",
       "11993   No survey results are available for this period.  Not Available   \n",
       "11998   No survey results are available for this period.  Not Available   \n",
       "11999   No survey results are available for this period.  Not Available   \n",
       "\n",
       "                              Footnote for response rate  \n",
       "0       No survey results are available for this period.  \n",
       "1      Fewer than 100 patients completed the survey. ...  \n",
       "2                                                    NaN  \n",
       "4                                                    NaN  \n",
       "6       No survey results are available for this period.  \n",
       "...                                                  ...  \n",
       "11991   No survey results are available for this period.  \n",
       "11992   No survey results are available for this period.  \n",
       "11993   No survey results are available for this period.  \n",
       "11998   No survey results are available for this period.  \n",
       "11999   No survey results are available for this period.  \n",
       "\n",
       "[9029 rows x 39 columns]"
      ]
     },
     "execution_count": 15,
     "metadata": {},
     "output_type": "execute_result"
    }
   ],
   "source": [
    "answer = 9029\n",
    "\n",
    "## Solution goes here\n",
    "Offers_cols = [col for col in hhcaps.columns if 'Offers' in col]\n",
    "Offers_cols\n",
    "Total_Rows = hhcaps.loc[(hhcaps['Offers Nursing Care Services'] == True) & (hhcaps['Offers Physical Therapy Services'] == True)\n",
    "                   & (hhcaps['Offers Occupational Therapy Services'] == True) & (hhcaps['Offers Speech Pathology Services'] == True)\n",
    "                   & (hhcaps['Offers Medical Social Services'] == True) & (hhcaps['Offers Home Health Aide Services'] == True)]\n",
    "Total_Rows"
   ]
  },
  {
   "cell_type": "code",
   "execution_count": 16,
   "metadata": {
    "nbgrader": {
     "grade": true,
     "grade_id": "q07-test",
     "locked": true,
     "points": 2,
     "schema_version": 1,
     "solution": false
    }
   },
   "outputs": [],
   "source": [
    "assert(type(answer) == int)\n",
    "assert(answer == 9029)\n"
   ]
  },
  {
   "cell_type": "code",
   "execution_count": null,
   "metadata": {},
   "outputs": [],
   "source": []
  },
  {
   "cell_type": "markdown",
   "metadata": {
    "nbgrader": {
     "grade": false,
     "grade_id": "q08-intro",
     "locked": true,
     "schema_version": 1,
     "solution": false
    }
   },
   "source": [
    "## #08 - \n",
    "\n",
    "The survey results report `Number of completed Surveys` as one of the metrics.  What is the `median` of the number of completed surveys per facility?\n",
    "\n",
    "Note that some rows don't have a valid number in them for the number of completed surveys.\n"
   ]
  },
  {
   "cell_type": "code",
   "execution_count": 17,
   "metadata": {
    "nbgrader": {
     "grade": false,
     "grade_id": "q08-solution",
     "locked": false,
     "schema_version": 1,
     "solution": true
    }
   },
   "outputs": [
    {
     "data": {
      "text/plain": [
       "median    84.0\n",
       "Name: Number of completed Surveys, dtype: float64"
      ]
     },
     "execution_count": 17,
     "metadata": {},
     "output_type": "execute_result"
    }
   ],
   "source": [
    "answer = 84.0\n",
    "\n",
    "## Solution goes here\n",
    "med = hhcaps.loc[hhcaps['Number of completed Surveys'] != 'Not Available']\n",
    "med[\"Number of completed Surveys\"].agg(['median'])"
   ]
  },
  {
   "cell_type": "code",
   "execution_count": 18,
   "metadata": {
    "nbgrader": {
     "grade": true,
     "grade_id": "q08-test",
     "locked": true,
     "points": 2,
     "schema_version": 1,
     "solution": false
    }
   },
   "outputs": [],
   "source": [
    "assert(type(answer) == float or type(answer) == numpy.float64)\n",
    "assert(answer ==84)\n"
   ]
  },
  {
   "cell_type": "markdown",
   "metadata": {
    "nbgrader": {
     "grade": false,
     "grade_id": "q09-intro",
     "locked": true,
     "schema_version": 1,
     "solution": false
    }
   },
   "source": [
    "## #09 - \n",
    "\n",
    "How many providers are there from St. Louis, Missouri?\n",
    "\n",
    "*Note that the City columnd may have trailing spaces that need to be accomodated or cleaned up*"
   ]
  },
  {
   "cell_type": "code",
   "execution_count": 19,
   "metadata": {
    "nbgrader": {
     "grade": false,
     "grade_id": "q09-solution",
     "locked": false,
     "schema_version": 1,
     "solution": true
    }
   },
   "outputs": [],
   "source": [
    "answer = 23\n",
    "\n",
    "## Solution goes here\n",
    "providers2 = hhcaps[(hhcaps.State == \"MO\")]\n",
    "c=0\n",
    "val = providers2[\"City\"]\n",
    "for i in val:\n",
    "    provider4 = i.strip()\n",
    "    if provider4=='SAINT LOUIS':\n",
    "        c=c+1"
   ]
  },
  {
   "cell_type": "code",
   "execution_count": 20,
   "metadata": {
    "nbgrader": {
     "grade": true,
     "grade_id": "q09-test",
     "locked": true,
     "points": 2,
     "schema_version": 1,
     "solution": false
    }
   },
   "outputs": [],
   "source": [
    "assert(type(answer) == int)\n",
    "assert(answer == 23)\n"
   ]
  },
  {
   "cell_type": "code",
   "execution_count": null,
   "metadata": {},
   "outputs": [],
   "source": []
  },
  {
   "cell_type": "markdown",
   "metadata": {
    "nbgrader": {
     "grade": false,
     "grade_id": "q10-intro",
     "locked": true,
     "schema_version": 1,
     "solution": false
    }
   },
   "source": [
    "# #10 - \n",
    "\n",
    "Which state got the highest percentage of 'top box' scorings, using the `Percent of patients who gave their home health agency a rating of 9 or 10 on a scale from 0 (lowest) to 10 (highest)` field.\n",
    "\n",
    "Ignore those rows where the data is **Not Available**"
   ]
  },
  {
   "cell_type": "code",
   "execution_count": 21,
   "metadata": {},
   "outputs": [
    {
     "name": "stderr",
     "output_type": "stream",
     "text": [
      "/opt/tljh/user/lib/python3.6/site-packages/ipykernel_launcher.py:7: SettingWithCopyWarning: \n",
      "A value is trying to be set on a copy of a slice from a DataFrame.\n",
      "Try using .loc[row_indexer,col_indexer] = value instead\n",
      "\n",
      "See the caveats in the documentation: http://pandas.pydata.org/pandas-docs/stable/user_guide/indexing.html#returning-a-view-versus-a-copy\n",
      "  import sys\n"
     ]
    },
    {
     "data": {
      "text/plain": [
       "State\n",
       "MS    89.318182\n",
       "KY    88.627451\n",
       "WV    88.600000\n",
       "AL    88.426573\n",
       "LA    88.287293\n",
       "AR    87.860870\n",
       "ME    87.857143\n",
       "SC    87.365079\n",
       "MO    86.622222\n",
       "NC    86.417178\n",
       "TN    86.241935\n",
       "KS    86.023529\n",
       "VI    86.000000\n",
       "IA    85.951220\n",
       "TX    85.653549\n",
       "OK    85.606796\n",
       "HI    85.583333\n",
       "PA    85.464286\n",
       "GA    85.020000\n",
       "WY    84.857143\n",
       "VT    84.818182\n",
       "MA    84.698529\n",
       "ID    84.658537\n",
       "IN    84.582353\n",
       "FL    84.524011\n",
       "SD    84.440000\n",
       "NH    84.240000\n",
       "ND    84.230769\n",
       "MP    84.000000\n",
       "AK    83.888889\n",
       "OH    83.668354\n",
       "NM    83.580645\n",
       "RI    83.434783\n",
       "PR    83.424242\n",
       "IL    83.358634\n",
       "VA    83.312500\n",
       "MT    83.291667\n",
       "NJ    83.232558\n",
       "CO    83.158333\n",
       "WI    82.616279\n",
       "MI    81.864499\n",
       "NE    81.821429\n",
       "CT    81.746667\n",
       "WA    81.586207\n",
       "MD    81.560000\n",
       "MN    81.274194\n",
       "UT    80.800000\n",
       "AZ    80.766355\n",
       "DE    80.058824\n",
       "CA    79.796149\n",
       "OR    78.900000\n",
       "NV    78.680412\n",
       "NY    78.169492\n",
       "DC    70.692308\n",
       "GU    65.000000\n",
       "Name: Percentage, dtype: float64"
      ]
     },
     "execution_count": 21,
     "metadata": {},
     "output_type": "execute_result"
    }
   ],
   "source": [
    "answer = 'MS'\n",
    "field = 'Percent of patients who gave their home health agency a rating of 9 or 10 on a scale from 0 (lowest) to 10 (highest)'\n",
    "\n",
    "## Solution goes here\n",
    "state_P = hhcaps[['State', field]]\n",
    "State_P2 = state_P[state_P[field] != \"Not Available\"]\n",
    "State_P2['Percentage']=State_P2['Percent of patients who gave their home health agency a rating of 9 or 10 on a scale from 0 (lowest) to 10 (highest)'].astype(float)\n",
    "State_P2.groupby('State')['Percentage'].mean().sort_values(ascending=False)\n"
   ]
  },
  {
   "cell_type": "code",
   "execution_count": 22,
   "metadata": {
    "nbgrader": {
     "grade": true,
     "grade_id": "q10-test",
     "locked": true,
     "points": 2,
     "schema_version": 1,
     "solution": false
    }
   },
   "outputs": [],
   "source": [
    "assert(type(answer) == str)\n",
    "assert(answer == 'MS')"
   ]
  },
  {
   "cell_type": "code",
   "execution_count": null,
   "metadata": {},
   "outputs": [],
   "source": []
  }
 ],
 "metadata": {
  "celltoolbar": "Create Assignment",
  "kernelspec": {
   "display_name": "Python 3",
   "language": "python",
   "name": "python3"
  },
  "language_info": {
   "codemirror_mode": {
    "name": "ipython",
    "version": 3
   },
   "file_extension": ".py",
   "mimetype": "text/x-python",
   "name": "python",
   "nbconvert_exporter": "python",
   "pygments_lexer": "ipython3",
   "version": "3.6.7"
  }
 },
 "nbformat": 4,
 "nbformat_minor": 2
}
