{
 "cells": [
  {
   "cell_type": "markdown",
   "metadata": {},
   "source": [
    "# Week 10 Assignment"
   ]
  },
  {
   "cell_type": "markdown",
   "metadata": {},
   "source": [
    "We had two major areas of discussion this week.  The first was all about how to work with string data - parsing and splitting strings using basic string fuctions as well as more complex string matching using regular expressions.  The second was a basic introduction to Pandas with a few different examples of how to load data into Pandas and then visualize it using graphs (histogram, distribution, scatter, bar, timeseries).\n",
    "\n",
    "* 36.1 - 1 point\n",
    "* 36.2 - 1 point\n",
    "* 38.1 - 3 points"
   ]
  },
  {
   "cell_type": "markdown",
   "metadata": {},
   "source": [
    "## 36.1 String Manipulation\n",
    "\n",
    "Write a function that will parse an address that includes one or two parts of street information, a city, a state, and a zip code -- all separated by commas.  You can assume that commas won't appear as part of the address information, only as a delimiter.  Here are some examples:\n",
    "\n",
    "823 Pebble Street, St. Louis, MO 63105\n",
    "\n",
    "91 Cityplace, Suite #33, St. Louis, MO 63144\n",
    "\n",
    "81234 Homeroad, Kansas City, MO 62441\n",
    "\n",
    "\n",
    "The output you should generate will be a dictionary with the following possible items.\n",
    "\n",
    "```\n",
    "{\n",
    "  'street1': '91 Cityplace',\n",
    "  'street2': 'Suite #33',\n",
    "  'city': 'St. Louis',\n",
    "  'state': 'MO',\n",
    "  'zip': '63122'\n",
    "}\n",
    "```\n",
    "\n",
    "Declare your function like this:\n",
    "```\n",
    "parse_address(address)\n",
    "```"
   ]
  },
  {
   "cell_type": "code",
   "execution_count": 1,
   "metadata": {},
   "outputs": [],
   "source": [
    "### YOUR SOLUTION\n",
    "\n",
    "def parse_address(address):\n",
    "    \n",
    "    \n",
    "    first_comma = address.find(',')\n",
    "    second_comma = address.find(',',first_comma+1)\n",
    "    Third_comma = address.find(',', second_comma+1)\n",
    "    Fourth_comma = address.find(',', Third_comma+1)\n",
    "\n",
    "    address.find(',')\n",
    "    street1 = address[0:address.find(',')]\n",
    "\n",
    "    \n",
    "    if  address.count(',') == 2:\n",
    "        city = [address.find(',') + 2]\n",
    "        State = [second_comma + 2]\n",
    "        Zip = [second_comma + 5]\n",
    "\n",
    "    else:  \n",
    "        street2 = [address.find(',') + 2]\n",
    "        city = [second_comma + 2]\n",
    "        State = [Third_comma + 2]\n",
    "        Zip = [Third_comma + 5]\n",
    "\n",
    "\n",
    "    \n",
    " \n",
    "    \n",
    "\n",
    "\n",
    "\n"
   ]
  },
  {
   "cell_type": "code",
   "execution_count": 2,
   "metadata": {},
   "outputs": [],
   "source": [
    "def parse_address(address):\n",
    "    \"\"\" the parse_address function can parse any provided address and the output will be in a form of dictionary that includesthe components of that provided address\n",
    "    (for example, the street number, city, state and zip)\n",
    "    \"\"\"\n",
    "    \n",
    "    comma = address.split(',')\n",
    "    if len(comma) == 3:\n",
    "        data = comma[2].split()\n",
    "        add_dic ={\n",
    "            'street1': comma[0],\n",
    "            'city': comma[1].strip(),\n",
    "            'state': data[0],\n",
    "            'zip' : data[1]\n",
    "            \n",
    "        }\n",
    "    else:\n",
    "        comma = address.split(',')\n",
    "        data = comma[3].split()\n",
    "        add_dic = {\n",
    "            'street1' : comma[0],\n",
    "            'street2' : comma[1].strip(),\n",
    "            'city' : comma[2].strip(),\n",
    "            'state' : data[0],\n",
    "            'zip' : data[1]\n",
    "            \n",
    "        }\n",
    "    return add_dic\n",
    "    "
   ]
  },
  {
   "cell_type": "markdown",
   "metadata": {},
   "source": [
    "## 36.2 Test the Address Parser\n",
    "\n",
    "Now write a series of good tests to ensure that your addres parser is going to work with a variety of different inputs.  Include at least 5 different examples."
   ]
  },
  {
   "cell_type": "code",
   "execution_count": 3,
   "metadata": {},
   "outputs": [
    {
     "data": {
      "text/plain": [
       "{'street1': '823 Pebble Street',\n",
       " 'city': 'St. Louis',\n",
       " 'state': 'MO',\n",
       " 'zip': '63105'}"
      ]
     },
     "execution_count": 3,
     "metadata": {},
     "output_type": "execute_result"
    }
   ],
   "source": [
    "add_dic = parse_address('823 Pebble Street, St. Louis, MO 63105')\n",
    "assert (parse_address('823 Pebble Street, St. Louis, MO 63105')==add_dic)\n",
    "add_dic"
   ]
  },
  {
   "cell_type": "code",
   "execution_count": 4,
   "metadata": {},
   "outputs": [
    {
     "data": {
      "text/plain": [
       "{'street1': '2824 Franklin Avenue',\n",
       " 'city': 'St. Louis',\n",
       " 'state': 'MO',\n",
       " 'zip': '63108'}"
      ]
     },
     "execution_count": 4,
     "metadata": {},
     "output_type": "execute_result"
    }
   ],
   "source": [
    "add_dic = parse_address('2824 Franklin Avenue, St. Louis, MO 63108')\n",
    "assert (parse_address('2824 Franklin Avenue, St. Louis, MO 63108')==add_dic)\n",
    "add_dic"
   ]
  },
  {
   "cell_type": "code",
   "execution_count": 5,
   "metadata": {},
   "outputs": [
    {
     "data": {
      "text/plain": [
       "{'street1': '91 Cityplace',\n",
       " 'street2': 'Suite #33',\n",
       " 'city': 'St. Louis',\n",
       " 'state': 'MO',\n",
       " 'zip': '63144'}"
      ]
     },
     "execution_count": 5,
     "metadata": {},
     "output_type": "execute_result"
    }
   ],
   "source": [
    "add_dic = parse_address('91 Cityplace, Suite #33, St. Louis, MO 63144')\n",
    "assert (parse_address('91 Cityplace, Suite #33, St. Louis, MO 63144')==add_dic)\n",
    "add_dic"
   ]
  },
  {
   "cell_type": "code",
   "execution_count": 6,
   "metadata": {},
   "outputs": [
    {
     "data": {
      "text/plain": [
       "{'street1': '1106 Mount Royal Drive',\n",
       " 'street2': 'Apt #3D',\n",
       " 'city': 'Kalamazoo',\n",
       " 'state': 'MI',\n",
       " 'zip': '49009'}"
      ]
     },
     "execution_count": 6,
     "metadata": {},
     "output_type": "execute_result"
    }
   ],
   "source": [
    "add_dic = parse_address('1106 Mount Royal Drive, Apt #3D, Kalamazoo, MI 49009')\n",
    "assert (parse_address('1106 Mount Royal Drive, Apt #3D, Kalamazoo, MI 49009')==add_dic)\n",
    "add_dic"
   ]
  },
  {
   "cell_type": "code",
   "execution_count": 7,
   "metadata": {},
   "outputs": [
    {
     "data": {
      "text/plain": [
       "{'street1': '1441 S Drake Rd',\n",
       " 'city': 'Kalamazoo',\n",
       " 'state': 'MI',\n",
       " 'zip': '49006'}"
      ]
     },
     "execution_count": 7,
     "metadata": {},
     "output_type": "execute_result"
    }
   ],
   "source": [
    "add_dic = parse_address('1441 S Drake Rd, Kalamazoo, MI 49006')\n",
    "assert (parse_address('1441 S Drake Rd, Kalamazoo, MI 49006')==add_dic)\n",
    "add_dic"
   ]
  },
  {
   "cell_type": "markdown",
   "metadata": {},
   "source": [
    "## 38.1 COVID-19 Trend Data\n",
    "\n",
    "Since we're dealing with a global pandemic right now, probably good to go ahead and do some anlysis with that data.  Take a look at what's here: https://ourworldindata.org/covid-sources-comparison\n",
    "\n",
    "Near the middle of the page, there are two charts with some data.  On the left is \"positive cases\" and on the right is \"deaths.\"  Both charts have a button that says \"Data.\"  What you will do below is write a series of Python commands (doesn't need to be in a function) to read that data and produce a simple timeseries chart using the information from John's Hopkins.  Your code will need to read the data, possibly do some reformatting, and then produce a simple timeseries chart.\n",
    "\n",
    "(Unfortunately, the tools used on this website don't make it easy to link to and directly download the data, so I've placed a copy in `/data/covid19.xlsx` for you to access.  This file came from one of the underlying sources: https://www.ecdc.europa.eu/en/publications-data/download-todays-data-geographic-distribution-covid-19-cases-worldwide)"
   ]
  },
  {
   "cell_type": "code",
   "execution_count": 8,
   "metadata": {},
   "outputs": [],
   "source": [
    "import numpy as np\n",
    "import pandas as pd\n",
    "import matplotlib.pyplot as plt\n",
    "import matplotlib.colors as mcolors\n",
    "import random\n",
    "import math\n",
    "import time\n",
    "import datetime\n",
    "import seaborn as sns\n",
    "%matplotlib inline\n",
    "plt.style.use('seaborn')"
   ]
  },
  {
   "cell_type": "code",
   "execution_count": 9,
   "metadata": {},
   "outputs": [
    {
     "name": "stdout",
     "output_type": "stream",
     "text": [
      "/home/jupyter-khalafh/hds5210-2020/week08\n"
     ]
    }
   ],
   "source": [
    "cd '/home/jupyter-khalafh/hds5210-2020/week08'"
   ]
  },
  {
   "cell_type": "code",
   "execution_count": 10,
   "metadata": {},
   "outputs": [
    {
     "data": {
      "image/png": "[encoded data removed]",
      "text/plain": [
       "<Figure size 1440x720 with 1 Axes>"
      ]
     },
     "metadata": {},
     "output_type": "display_data"
    }
   ],
   "source": [
    "data = pd.read_excel('covid19.xlsx',quotechar ='\"\"')\n",
    "\n",
    "covid19 =pd.DataFrame()\n",
    "\n",
    "covid19['DateRep'] = pd.to_datetime(data['DateRep'], format ='%Y-%m-%d')\n",
    "\n",
    "covid19[['Cases','Deaths']] = data[['Cases','Deaths']].astype(int)\n",
    "\n",
    "df = covid19.groupby(['DateRep']).sum()\n",
    "\n",
    "df.sort_index().cumsum().plot(kind='line',figsize=(20,10))\n",
    "\n",
    "\n",
    "plt.xlabel('Date')\n",
    "plt.ylabel('Positive Cases')\n",
    "plt.legend()\n",
    "plt.show()"
   ]
  },
  {
   "cell_type": "code",
   "execution_count": 11,
   "metadata": {},
   "outputs": [
    {
     "data": {
      "text/html": [
       "<div>\n",
       "<style scoped>\n",
       "    .dataframe tbody tr th:only-of-type {\n",
       "        vertical-align: middle;\n",
       "    }\n",
       "\n",
       "    .dataframe tbody tr th {\n",
       "        vertical-align: top;\n",
       "    }\n",
       "\n",
       "    .dataframe thead th {\n",
       "        text-align: right;\n",
       "    }\n",
       "</style>\n",
       "<table border=\"1\" class=\"dataframe\">\n",
       "  <thead>\n",
       "    <tr style=\"text-align: right;\">\n",
       "      <th></th>\n",
       "      <th>Cases</th>\n",
       "      <th>Deaths</th>\n",
       "    </tr>\n",
       "    <tr>\n",
       "      <th>DateRep</th>\n",
       "      <th></th>\n",
       "      <th></th>\n",
       "    </tr>\n",
       "  </thead>\n",
       "  <tbody>\n",
       "    <tr>\n",
       "      <th>2019-12-31</th>\n",
       "      <td>27</td>\n",
       "      <td>0</td>\n",
       "    </tr>\n",
       "    <tr>\n",
       "      <th>2020-01-01</th>\n",
       "      <td>27</td>\n",
       "      <td>0</td>\n",
       "    </tr>\n",
       "    <tr>\n",
       "      <th>2020-01-02</th>\n",
       "      <td>27</td>\n",
       "      <td>0</td>\n",
       "    </tr>\n",
       "    <tr>\n",
       "      <th>2020-01-03</th>\n",
       "      <td>44</td>\n",
       "      <td>0</td>\n",
       "    </tr>\n",
       "    <tr>\n",
       "      <th>2020-01-04</th>\n",
       "      <td>44</td>\n",
       "      <td>0</td>\n",
       "    </tr>\n",
       "    <tr>\n",
       "      <th>...</th>\n",
       "      <td>...</td>\n",
       "      <td>...</td>\n",
       "    </tr>\n",
       "    <tr>\n",
       "      <th>2020-03-17</th>\n",
       "      <td>180159</td>\n",
       "      <td>7103</td>\n",
       "    </tr>\n",
       "    <tr>\n",
       "      <th>2020-03-18</th>\n",
       "      <td>194909</td>\n",
       "      <td>7873</td>\n",
       "    </tr>\n",
       "    <tr>\n",
       "      <th>2020-03-19</th>\n",
       "      <td>213254</td>\n",
       "      <td>8843</td>\n",
       "    </tr>\n",
       "    <tr>\n",
       "      <th>2020-03-20</th>\n",
       "      <td>242473</td>\n",
       "      <td>9885</td>\n",
       "    </tr>\n",
       "    <tr>\n",
       "      <th>2020-03-21</th>\n",
       "      <td>271364</td>\n",
       "      <td>11252</td>\n",
       "    </tr>\n",
       "  </tbody>\n",
       "</table>\n",
       "<p>82 rows × 2 columns</p>\n",
       "</div>"
      ],
      "text/plain": [
       "             Cases  Deaths\n",
       "DateRep                   \n",
       "2019-12-31      27       0\n",
       "2020-01-01      27       0\n",
       "2020-01-02      27       0\n",
       "2020-01-03      44       0\n",
       "2020-01-04      44       0\n",
       "...            ...     ...\n",
       "2020-03-17  180159    7103\n",
       "2020-03-18  194909    7873\n",
       "2020-03-19  213254    8843\n",
       "2020-03-20  242473    9885\n",
       "2020-03-21  271364   11252\n",
       "\n",
       "[82 rows x 2 columns]"
      ]
     },
     "execution_count": 11,
     "metadata": {},
     "output_type": "execute_result"
    }
   ],
   "source": [
    "df.cumsum(axis=0)"
   ]
  },
  {
   "cell_type": "code",
   "execution_count": null,
   "metadata": {},
   "outputs": [],
   "source": []
  },
  {
   "cell_type": "code",
   "execution_count": null,
   "metadata": {},
   "outputs": [],
   "source": []
  },
  {
   "cell_type": "markdown",
   "metadata": {},
   "source": [
    "One hint that you might find helpful while working on this is that the data in this file is the number of cases each week, not the running total.  You will want to plot a running total.\n",
    "\n",
    "To do so, pandas has a `.cumsum()` method that you can use after doing a `groupby` and a `.sum()` somewhat similar to the last example of the pandas-viz.ipynb file (except in that example, it's doing a `mean()` instead of `sum()` and a `rolling()` instead of `cumsum()`.)  This link might also provide a little guidance: https://stackoverflow.com/questions/48739374/pandas-plot-cumulative-sum-of-counters-over-time"
   ]
  },
  {
   "cell_type": "code",
   "execution_count": null,
   "metadata": {},
   "outputs": [],
   "source": []
  },
  {
   "cell_type": "markdown",
   "metadata": {},
   "source": [
    "## Extra Challenges\n",
    "\n",
    "Take the same data, but not start looking at it by country.  Do some groupbys.\n",
    "\n",
    "Or take the same data and look at the mortality rate (deaths / total reported cases) and see how that is different by country or trending over time."
   ]
  },
  {
   "cell_type": "code",
   "execution_count": 12,
   "metadata": {},
   "outputs": [],
   "source": [
    "#I will do it later :)"
   ]
  }
 ],
 "metadata": {
  "kernelspec": {
   "display_name": "Python 3",
   "language": "python",
   "name": "python3"
  },
  "language_info": {
   "codemirror_mode": {
    "name": "ipython",
    "version": 3
   },
   "file_extension": ".py",
   "mimetype": "text/x-python",
   "name": "python",
   "nbconvert_exporter": "python",
   "pygments_lexer": "ipython3",
   "version": "3.6.7"
  }
 },
 "nbformat": 4,
 "nbformat_minor": 4
}
