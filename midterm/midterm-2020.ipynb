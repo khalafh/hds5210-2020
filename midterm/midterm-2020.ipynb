{
 "cells": [
  {
   "cell_type": "markdown",
   "metadata": {},
   "source": [
    "# HDS5210-2020 Midterm\n",
    "\n",
    "In the midterm, you're going to focus on using the programming skills that you've developed so far to build a calculator for the Apache II scoring system for ICU Mortality.  \n",
    "* https://www.mdcalc.com/apache-ii-score#evidence\n",
    "* https://reference.medscape.com/calculator/apache-ii-scoring-system\n",
    "\n",
    "For the midterm, we'll be building a calculator for the Apache II score and then running that against a patient file that's available to you out on the internet.  This will be broken down into three main steps:\n",
    "1. Create your JSON file to encapsulate all of the calculation rules for Apache II\n",
    "2. Create functions to calculate the Apache II score using your JSON configuration\n",
    "3. Create a function to loop over the patients in a file on the internet and calculate Apach II scores for all of them\n",
    "\n"
   ]
  },
  {
   "cell_type": "markdown",
   "metadata": {},
   "source": [
    "---\n",
    "\n",
    "## Part 1: Creating a JSON Rules File\n",
    "\n",
    "Look at the rules for the Apache II scoring system on the pages above.  The first step in the midterm is to use those rules and create a JSON configuration file as described in the 2019 midterm video.  I've provided a starter file named `apache.json` to get you started.\n",
    "\n",
    "Inside that file, you'll find placeholders for all of the measures that go into the Apache II scoring model:\n",
    "* Organ Failure History\n",
    "* Age\n",
    "* Temperature\n",
    "* [pH](https://en.wikipedia.org/wiki/PH)\n",
    "* Heart rate\n",
    "* Respiratory rate\n",
    "* [Sodium](https://www.mayoclinic.org/diseases-conditions/hyponatremia/symptoms-causes/syc-20373711)\n",
    "* [Potassium](https://www.emedicinehealth.com/hyperkalemia/article_em.htm)\n",
    "* [Creatinine](https://www.medicalnewstoday.com/articles/322380)\n",
    "* [Hematocrit](https://labtestsonline.org/tests/hematocrit)\n",
    "* White Blood Count\n",
    "* [FiO2](https://www.ausmed.com/cpd/articles/oxygen-flow-rate-and-fio2)\n",
    "* [PaO2](https://www.verywellhealth.com/partial-pressure-of-oyxgen-pa02-914920)\n",
    "* [A-a gradient](https://www.ncbi.nlm.nih.gov/books/NBK545153/)\n",
    "\n",
    "\n",
    "You may need to create a sort of nested set of rules in some cases.  For instance, the rule for Creatinine says to use certain ranges and points in the case of Acute Renal Failure and a different set of points for Chronic Renal Failure.\n",
    "\n",
    "Similarly, the rule for FiO2 says to use PaO2 to calculate scores if the FiO2 is <50, and to use A-a Gradient if the PaO2 is >50.\n",
    "\n",
    "When you've created your `apache.json` file, make sure it's in the same directory as this notebook."
   ]
  },
  {
   "cell_type": "markdown",
   "metadata": {},
   "source": [
    "### Testing your JSON\n",
    "\n",
    "The assert() functions below should all run just fine.  If you want to change the names of any of the keys in the JSON I provided you, you may, but you'll also need to update this test code so that it doesn't fail.  Remember, your notebook should be able to run end-to-end before you submit it."
   ]
  },
  {
   "cell_type": "code",
   "execution_count": 1361,
   "metadata": {},
   "outputs": [],
   "source": [
    "import json\n",
    "\n",
    "with open('hason.json') as f:\n",
    "      rules = json.load(f)\n",
    "\n",
    "assert('Organ_Failure_History' in rules.keys())\n",
    "assert('Age' in rules.keys())\n",
    "assert('Temperature' in rules.keys())\n",
    "assert('pH' in rules.keys())\n",
    "assert('Heart_Rate' in rules.keys())\n",
    "assert('Respiratory_Rate' in rules.keys())\n",
    "assert('Sodium' in rules.keys())\n",
    "assert('Potassium' in rules.keys())\n",
    "assert('Creatinine' in rules.keys())\n",
    "assert('Hematocrit' in rules.keys())\n",
    "assert('White_Blood_Count' in rules.keys())\n",
    "assert('FiO2' in rules.keys())"
   ]
  },
  {
   "cell_type": "code",
   "execution_count": 1362,
   "metadata": {},
   "outputs": [
    {
     "name": "stdout",
     "output_type": "stream",
     "text": [
      "{'Organ_Failure_History': {'Nonoperative': 5, 'Emergency': 5, 'Elective': 2, 'None': 0}, 'Age': [{'min': 0, 'max': 44, 'points': 0}, {'min': 45, 'max': 54, 'points': 2}, {'min': 55, 'max': 64, 'points': 3}, {'min': 65, 'max': 74, 'points': 5}, {'min': 75, 'max': 999, 'points': 6}], 'Temperature': [{'min': 41, 'max': 99, 'points': 4}, {'min': 39, 'max': 40.9, 'points': 3}, {'min': 38.5, 'max': 38.9, 'points': 1}, {'min': 36, 'max': 38.4, 'points': 0}, {'min': 34, 'max': 35.9, 'points': 1}, {'min': 32, 'max': 33.9, 'points': 2}, {'min': 30, 'max': 31.9, 'points': 3}, {'min': 0, 'max': 29.9, 'points': 4}], 'pH': [{'min': 7.7, 'max': 99, 'points': 4}, {'min': 7.6, 'max': 7.69, 'points': 3}, {'min': 7.5, 'max': 7.59, 'points': 1}, {'min': 7.33, 'max': 7.49, 'points': 0}, {'min': 7.25, 'max': 7.32, 'points': 2}, {'min': 7.15, 'max': 7.24, 'points': 3}, {'min': 0, 'max': 7.14, 'points': 4}], 'Heart_Rate': [{'min': 180, 'max': 999, 'points': 4}, {'min': 140, 'max': 179, 'points': 3}, {'min': 110, 'max': 139, 'points': 2}, {'min': 70, 'max': 109, 'points': 0}, {'min': 55, 'max': 69, 'points': 2}, {'min': 40, 'max': 54, 'points': 3}, {'min': 0, 'max': 39, 'points': 4}], 'Respiratory_Rate': [{'min': 50, 'max': 999, 'points': 4}, {'min': 35, 'max': 49, 'points': 3}, {'min': 25, 'max': 34, 'points': 1}, {'min': 12, 'max': 24, 'points': 0}, {'min': 10, 'max': 11, 'points': 1}, {'min': 6, 'max': 9, 'points': 2}, {'min': 0, 'max': 5, 'points': 4}], 'Sodium': [{'min': 180, 'max': 999, 'points': 4}, {'min': 160, 'max': 179, 'points': 3}, {'min': 155, 'max': 159, 'points': 2}, {'min': 150, 'max': 154, 'points': 1}, {'min': 130, 'max': 149, 'points': 0}, {'min': 120, 'max': 129, 'points': 2}, {'min': 111, 'max': 119, 'points': 3}, {'min': 0, 'max': 110, 'points': 4}], 'Potassium': [{'min': 7, 'max': 999, 'points': 4}, {'min': 6, 'max': 6.9, 'points': 3}, {'min': 5.5, 'max': 5.9, 'points': 1}, {'min': 3.5, 'max': 5.4, 'points': 0}, {'min': 3, 'max': 3.4, 'points': 1}, {'min': 2.5, 'max': 2.9, 'points': 2}, {'min': 0, 'max': 2.4, 'points': 4}], 'Hematocrit': [{'min': 60, 'max': 999, 'points': 4}, {'min': 50, 'max': 59, 'points': 2}, {'min': 46, 'max': 49, 'points': 1}, {'min': 30, 'max': 45, 'points': 0}, {'min': 20, 'max': 29, 'points': 2}, {'min': 0, 'max': 19, 'points': 4}], 'FiO2': [{'min': 0, 'max': 49, 'PaO2': [{'min': 61, 'max': 70, 'points': 1}, {'min': 55, 'max': 60, 'points': 3}, {'min': 0, 'max': 54, 'points': 4}]}, {'min': 50, 'max': 999, 'A_agradient': [{'min': 500, 'max': 999, 'points': 4}, {'min': 350, 'max': 499, 'points': 3}, {'min': 200, 'max': 349, 'points': 2}, {'min': 0, 'max': 199, 'points': 0}]}], 'White_Blood_Count': [{'min': 40, 'max': 999, 'points': 4}, {'min': 20, 'max': 39, 'points': 2}, {'min': 15, 'max': 19, 'points': 1}, {'min': 3, 'max': 14, 'points': 0}, {'min': 1, 'max': 2, 'points': 2}, {'min': 0, 'max': 0.9, 'points': 4}], 'Creatinine': {'Acute Renal Failure': [{'min': 3.5, 'max': 999, 'points': 8}, {'min': 2, 'max': 3.4, 'points': 6}, {'min': 1.5, 'max': 1.9, 'points': 4}, {'min': 0.6, 'max': 1.4, 'points': 0}, {'min': 0, 'max': 0.5, 'points': 2}], 'Chronic Renal Failure': [{'min': 3.5, 'max': 999, 'points': 4}, {'min': 2, 'max': 3.4, 'points': 2}, {'min': 1.5, 'max': 1.9, 'points': 1}, {'min': 0.6, 'max': 1.4, 'points': 0}, {'min': 0, 'max': 0.5, 'points': 2}]}}\n"
     ]
    }
   ],
   "source": [
    "config = json.load(open(\"hason.json\"))\n",
    "print(config)"
   ]
  },
  {
   "cell_type": "code",
   "execution_count": null,
   "metadata": {},
   "outputs": [],
   "source": []
  },
  {
   "cell_type": "code",
   "execution_count": null,
   "metadata": {},
   "outputs": [],
   "source": []
  },
  {
   "cell_type": "markdown",
   "metadata": {},
   "source": [
    "---\n",
    "\n",
    "## Part 2: Functions to evaluate rules\n",
    "\n",
    "Write a series of functions, enough to satisfy all of the main criteria that we're using to calculate the Apache II score.  That list is the same as the assert statements above.\n",
    "\n",
    "* Each of your functions should be well documented.\n",
    "* Each function should have \"config_file\" as one of it's parameters.\n",
    "* Each function should return a numerical score value.\n",
    "* Similar to what we discussed in the review, if you can generalize some rules, do so.  You should **NOT** end up with one function for each input variable.  If you did that, you'd have a lot of repetative code.\n",
    "\n",
    "The Glasgow Coma Scale is simply a 1-to-1 score translation.  Simply add the Glasgow Coma Scale value.  So, you don't need to write a function for this. [Glasgow Coma Scale](https://www.cdc.gov/masstrauma/resources/gcs.pdf)\n",
    "\n"
   ]
  },
  {
   "cell_type": "markdown",
   "metadata": {},
   "source": [
    "# 2.1 Organ Failure History"
   ]
  },
  {
   "cell_type": "code",
   "execution_count": 1363,
   "metadata": {},
   "outputs": [],
   "source": [
    "import json\n",
    "\n",
    "def Organ_Failure_History_score(Organ_Failure_History_list, config_file):\n",
    "    \"\"\" list, str -> int\n",
    "    Organ_Failure_History_list: A list of strings that include various failure history cases this subject DOES have\n",
    "    config_file: The name of a configuration file to use for scoring these failure cases\n",
    "    \n",
    "    The function should return a score for this subject based on the failure history condition in the oragan failure history_list\n",
    "    and the scoring rules in the config_file.  For instance, if the condition is Emergency the Organ the function will return 5.\n",
    "    \"\"\"\n",
    "    \n",
    "    score = 0\n",
    "    config = json.load(open(config_file))\n",
    "    Organ_Failure_History_scores = config.get(\"Organ_Failure_History\")\n",
    "    for item in Organ_Failure_History_list:\n",
    "        if score in Organ_Failure_History_scores:\n",
    "            score += Organ_Failure_History_scores.get(item)\n",
    "    return score\n",
    "   \n",
    "        \n",
    "\n",
    "    "
   ]
  },
  {
   "cell_type": "code",
   "execution_count": 1364,
   "metadata": {},
   "outputs": [],
   "source": [
    "ORGAN_CONFIG_FILE = \"hason.json\""
   ]
  },
  {
   "cell_type": "code",
   "execution_count": null,
   "metadata": {},
   "outputs": [],
   "source": [
    " \"\"\" list, str -> int\n",
    "    Organ_Failure_History_list: A list of strings that include various failure history cases this subject DOES have\n",
    "    config_file: The name of a configuration file to use for scoring these failure cases\n",
    "    \n",
    "    The function should return a score for this subject based on the failure history condition in the oragan failure history_list\n",
    "    and the scoring rules in the config_file.  For instance, if the condition is Emergency the Organ the function will return 5.\n",
    "    \"\"\""
   ]
  },
  {
   "cell_type": "markdown",
   "metadata": {},
   "source": [
    "# 2.2 Age"
   ]
  },
  {
   "cell_type": "code",
   "execution_count": 1272,
   "metadata": {},
   "outputs": [],
   "source": [
    "import json\n",
    "\n",
    "def Age_score(Age, config_file):\n",
    "    \"\"\" int, str -> int\n",
    "    Age: The age of the person in years.\n",
    "    config_file: The name of a configuration file to use for scoring the age score.\n",
    "    \n",
    "    The function should return a score for this subject based on where their age \n",
    "    falls in the scoring rules.\n",
    "    \"\"\"\n",
    "    score = 0\n",
    "    \n",
    "    ### BEGIN SOLUTION\n",
    "    \n",
    "    config = json.load(open(config_file))\n",
    "    Age_rules = config.get(\"Age\")\n",
    "    \n",
    "    for rule in Age_rules:\n",
    "        if float(Age) >= rule.get('min') and float(Age) < rule.get('max'):\n",
    "            score = rule.get('points')\n",
    "     ### END SOLUTION\n",
    "\n",
    "    return score\n",
    "    "
   ]
  },
  {
   "cell_type": "code",
   "execution_count": 1203,
   "metadata": {},
   "outputs": [],
   "source": [
    "AGE_CONFIG_FILE = \"hason.json\""
   ]
  },
  {
   "cell_type": "code",
   "execution_count": 1273,
   "metadata": {},
   "outputs": [],
   "source": [
    "assert(Age_score(35,  AGE_CONFIG_FILE)== 0)\n",
    "assert(Age_score(45,  AGE_CONFIG_FILE)== 2)\n",
    "assert(Age_score(55,  AGE_CONFIG_FILE)== 3)"
   ]
  },
  {
   "cell_type": "markdown",
   "metadata": {},
   "source": [
    "# 2.3 Temperature"
   ]
  },
  {
   "cell_type": "code",
   "execution_count": 1274,
   "metadata": {},
   "outputs": [],
   "source": [
    "import json\n",
    "\n",
    "def Temperature_score(Temperature, config_file):\n",
    "    \"\"\" int, str -> int\n",
    "    Temperature: The Temperature measurement in Celsius of the person as an integer value.\n",
    "    config_file: The name of a configuration file to use for scoring the Temperature.\n",
    "    \n",
    "    The function should return a score for this subject based on where their Temperature\n",
    "    falls in the scoring rules.\n",
    "    \"\"\"\n",
    "    \n",
    "    score = 0\n",
    "     ### BEGIN SOLUTION\n",
    "    \n",
    "    config = json.load(open(config_file))\n",
    "    Temperature_rules = config.get(\"Temperature\")\n",
    "    \n",
    "    for rule in Temperature_rules:\n",
    "        if float(Temperature) >= rule.get('min') and float(Temperature) < rule.get('max'):\n",
    "            score = rule.get('points')\n",
    "    \n",
    "    ### END SOLUTION\n",
    "\n",
    "    return score\n",
    "    \n",
    "   \n",
    "    "
   ]
  },
  {
   "cell_type": "code",
   "execution_count": 392,
   "metadata": {},
   "outputs": [],
   "source": [
    "TEMPERATURE_CONFIG_FILE = \"hason.json\""
   ]
  },
  {
   "cell_type": "code",
   "execution_count": 1275,
   "metadata": {},
   "outputs": [],
   "source": [
    "assert(Temperature_score(41, TEMPERATURE_CONFIG_FILE)== 4)\n",
    "assert(Temperature_score(38.5, TEMPERATURE_CONFIG_FILE)== 1)\n",
    "assert(Temperature_score(39, TEMPERATURE_CONFIG_FILE)== 3)"
   ]
  },
  {
   "cell_type": "markdown",
   "metadata": {},
   "source": [
    "# 2.4 pH"
   ]
  },
  {
   "cell_type": "code",
   "execution_count": 1214,
   "metadata": {},
   "outputs": [],
   "source": [
    "import json\n",
    "\n",
    "def pH_score(pH, config_file):\n",
    "    \"\"\" int, str -> int\n",
    "    pH: The pH measurement as an integer value\n",
    "    config_file: The name of a configuration file to use for scoring the pH\n",
    "    \n",
    "    The function should return a score for this subject based on where their pH\n",
    "    falls in the scoring rules.\n",
    "    \"\"\"\n",
    "    \n",
    "    score = 0\n",
    "    \n",
    "    ### BEGIN SOLUTION\n",
    "    \n",
    "    config = json.load(open(config_file))\n",
    "    pH_rules = config.get(\"pH\")\n",
    "    \n",
    "    for rule in pH_rules:\n",
    "        if float(pH) >= rule.get('min') and float(pH) < rule.get('max'):\n",
    "            score = rule.get('points')\n",
    "    \n",
    "    ### END SOLUTION\n",
    "\n",
    "    return score"
   ]
  },
  {
   "cell_type": "code",
   "execution_count": 388,
   "metadata": {},
   "outputs": [],
   "source": [
    "PH_CONFIG_FILE = \"hason.json\""
   ]
  },
  {
   "cell_type": "code",
   "execution_count": 1215,
   "metadata": {},
   "outputs": [],
   "source": [
    "assert(pH_score(7.7,PH_CONFIG_FILE)== 4)\n",
    "assert(pH_score(7.6,PH_CONFIG_FILE)== 3)\n",
    "assert(pH_score(7.5,PH_CONFIG_FILE)== 1)"
   ]
  },
  {
   "cell_type": "markdown",
   "metadata": {},
   "source": [
    "# 2.5 Heart Rate"
   ]
  },
  {
   "cell_type": "code",
   "execution_count": 1276,
   "metadata": {},
   "outputs": [],
   "source": [
    "import json\n",
    "\n",
    "def HR_score(Heart_Rate, config_file):\n",
    "    \"\"\" int, str -> int\n",
    "    HR: The Heart_Rate measurement as an integer in beats per minute.\n",
    "    config_file: The name of a configuration file to use for scoring the HR\n",
    "    \n",
    "    The function should return a score for this subject based on where their HR\n",
    "    falls in the scoring rules.\n",
    "    \"\"\"\n",
    "    \n",
    "    score = 0\n",
    "    \n",
    "     ### BEGIN SOLUTION\n",
    "    \n",
    "    config = json.load(open(config_file))\n",
    "    Heart_Rate_rules = config.get(\"Heart_Rate\")\n",
    "    \n",
    "    for rule in Heart_Rate_rules:\n",
    "        if float(Heart_Rate) >= rule.get('min') and float(Heart_Rate) < rule.get('max'):\n",
    "            score = rule.get('points')\n",
    "    \n",
    "    ### END SOLUTION\n",
    "\n",
    "    return score"
   ]
  },
  {
   "cell_type": "code",
   "execution_count": 767,
   "metadata": {},
   "outputs": [],
   "source": [
    "HR_CONFIG_FILE = \"hason.json\""
   ]
  },
  {
   "cell_type": "code",
   "execution_count": 1277,
   "metadata": {},
   "outputs": [],
   "source": [
    "assert(HR_score(180,HR_CONFIG_FILE)== 4)\n",
    "assert(HR_score(110,HR_CONFIG_FILE)== 2)\n",
    "assert(HR_score(0,HR_CONFIG_FILE)== 4)"
   ]
  },
  {
   "cell_type": "markdown",
   "metadata": {},
   "source": [
    "# 2.6 Respiratory Rate"
   ]
  },
  {
   "cell_type": "code",
   "execution_count": 1278,
   "metadata": {},
   "outputs": [],
   "source": [
    "import json\n",
    "\n",
    "def RR_score(Respiratory_Rate, config_file):\n",
    "    \"\"\" int, str -> int\n",
    "    RR: The Respiratory_RateI measurement as an integer of breaths per minute.\n",
    "    config_file: The name of a configuration file to use for scoring the RR\n",
    "    \n",
    "    The function should return a score for this subject based on where their RR\n",
    "    falls in the scoring rules.\n",
    "    \"\"\"\n",
    "    \n",
    "    score = 0\n",
    "    \n",
    "     ### BEGIN SOLUTION\n",
    "    config = json.load(open(config_file))\n",
    "    Respiratory_Rate_rules = config.get(\"Respiratory_Rate\")\n",
    "    \n",
    "    for rule in Respiratory_Rate_rules:\n",
    "        if float(Respiratory_Rate) >= rule.get('min') and float(Respiratory_Rate) < rule.get('max'):\n",
    "            score = rule.get('points')\n",
    "    \n",
    "    ### END SOLUTION\n",
    "\n",
    "    return score"
   ]
  },
  {
   "cell_type": "code",
   "execution_count": 1185,
   "metadata": {},
   "outputs": [],
   "source": [
    "RR_CONFIG_FILE = \"hason.json\""
   ]
  },
  {
   "cell_type": "code",
   "execution_count": 1279,
   "metadata": {},
   "outputs": [],
   "source": [
    "assert(RR_score(50,RR_CONFIG_FILE)== 4)\n",
    "assert(RR_score(35,RR_CONFIG_FILE)== 3)\n",
    "assert(RR_score(25,RR_CONFIG_FILE)== 1)"
   ]
  },
  {
   "cell_type": "markdown",
   "metadata": {},
   "source": [
    "# 2.7 Sodium"
   ]
  },
  {
   "cell_type": "code",
   "execution_count": 1280,
   "metadata": {},
   "outputs": [],
   "source": [
    "import json\n",
    "\n",
    "def Sodium_score(Sodium, config_file):\n",
    "    \"\"\" int, str -> int\n",
    "    Sodium: The Sodium measurement as an integer in mmol/L\n",
    "    config_file: The name of a configuration file to use for scoring the Sodium\n",
    "    \n",
    "    The function should return a score for this subject based on where their Sodium\n",
    "    falls in the scoring rules.\n",
    "    \"\"\"\n",
    "    \n",
    "    score = 0\n",
    "    \n",
    "    ### BEGIN SOLUTION\n",
    "    config = json.load(open(config_file))\n",
    "    Sodium_rules = config.get(\"Sodium\")\n",
    "    \n",
    "    for rule in Sodium_rules:\n",
    "        if float(Sodium) >= rule.get('min') and float(Sodium) < rule.get('max'):\n",
    "            score = rule.get('points')\n",
    "    \n",
    "    ### END SOLUTION\n",
    "\n",
    "    return score"
   ]
  },
  {
   "cell_type": "code",
   "execution_count": 665,
   "metadata": {},
   "outputs": [],
   "source": [
    "SODIUM_CONFIG_FILE = \"hason.json\""
   ]
  },
  {
   "cell_type": "code",
   "execution_count": 1281,
   "metadata": {},
   "outputs": [],
   "source": [
    "assert(Sodium_score(180,SODIUM_CONFIG_FILE)== 4)\n",
    "assert(Sodium_score(160,SODIUM_CONFIG_FILE)== 3)\n",
    "assert(Sodium_score(155,SODIUM_CONFIG_FILE)== 2)"
   ]
  },
  {
   "cell_type": "markdown",
   "metadata": {},
   "source": [
    "# 2.8 Potassium"
   ]
  },
  {
   "cell_type": "code",
   "execution_count": 1282,
   "metadata": {},
   "outputs": [],
   "source": [
    "import json\n",
    "\n",
    "def Potassium_score(Potassium, config_file):\n",
    "    \"\"\" int, str -> int\n",
    "    Potassium: The Sodium measurement as an integer in mmol/L\n",
    "    config_file: The name of a configuration file to use for scoring the Potassium\n",
    "    \n",
    "    The function should return a score for this subject based on where their Potassium\n",
    "    falls in the scoring rules.\n",
    "    \"\"\"\n",
    "    \n",
    "    score = 0\n",
    "    \n",
    "     ### BEGIN SOLUTION\n",
    "    config = json.load(open(config_file))\n",
    "    Potassium_rules = config.get(\"Potassium\")\n",
    "    \n",
    "    for rule in Potassium_rules:\n",
    "        if float(Potassium) >= rule.get('min') and float(Potassium) < rule.get('max'):\n",
    "            score = rule.get('points')\n",
    "    \n",
    "    ### END SOLUTION\n",
    "\n",
    "    return score"
   ]
  },
  {
   "cell_type": "code",
   "execution_count": 673,
   "metadata": {},
   "outputs": [],
   "source": [
    "POTASSIUM_CONFIG_FILE = \"hason.json\""
   ]
  },
  {
   "cell_type": "code",
   "execution_count": 1283,
   "metadata": {},
   "outputs": [],
   "source": [
    "assert(Potassium_score(7,POTASSIUM_CONFIG_FILE)== 4)\n",
    "assert(Potassium_score(6,POTASSIUM_CONFIG_FILE)== 3)\n",
    "assert(Potassium_score(5.5,POTASSIUM_CONFIG_FILE)== 1)"
   ]
  },
  {
   "cell_type": "markdown",
   "metadata": {},
   "source": [
    "# 2.9 Hematocrit"
   ]
  },
  {
   "cell_type": "code",
   "execution_count": 1286,
   "metadata": {},
   "outputs": [],
   "source": [
    "import json\n",
    "\n",
    "def H_score(Hematocrit, config_file):\n",
    "    \"\"\" int, str -> int\n",
    "    H: The Hematocrit measurement as a percentage value\n",
    "    config_file: The name of a configuration file to use for scoring the H\n",
    "    \n",
    "    The function should return a score for this subject based on where their H\n",
    "    falls in the scoring rules.\n",
    "    \"\"\"\n",
    "    \n",
    "    score = 0\n",
    "    \n",
    "    ### BEGIN SOLUTION\n",
    "    config = json.load(open(config_file))\n",
    "    Hematocrit_rules = config.get(\"Hematocrit\")\n",
    "    \n",
    "    for rule in Hematocrit_rules:\n",
    "        if float(Hematocrit) >= rule.get('min') and float(Hematocrit) < rule.get('max'):\n",
    "            score = rule.get('points')\n",
    "    \n",
    "    ### END SOLUTION\n",
    "\n",
    "    return score\n",
    "    "
   ]
  },
  {
   "cell_type": "code",
   "execution_count": 700,
   "metadata": {},
   "outputs": [],
   "source": [
    "H_CONFIG_FILE = \"hason.json\""
   ]
  },
  {
   "cell_type": "code",
   "execution_count": 1287,
   "metadata": {},
   "outputs": [],
   "source": [
    "assert(H_score(60,H_CONFIG_FILE)== 4)\n",
    "assert(H_score(46,H_CONFIG_FILE)== 1)\n",
    "assert(H_score(20,H_CONFIG_FILE)== 2)"
   ]
  },
  {
   "cell_type": "markdown",
   "metadata": {},
   "source": [
    "# 2.10 White Blood Count"
   ]
  },
  {
   "cell_type": "code",
   "execution_count": 1289,
   "metadata": {},
   "outputs": [],
   "source": [
    "import json\n",
    "\n",
    "def White_Blood_Count_score(White_Blood_Count, config_file):\n",
    "    \"\"\" int, str -> int\n",
    "    White_Blood_Count: The White_Blood_Count measurement as an integer of total/cubic mm in 1000's\n",
    "    config_file: The name of a configuration file to use for scoring the White_Blood_Count\n",
    "    \n",
    "    The function should return a score for this subject based on where their White_Blood_Count\n",
    "    falls in the scoring rules.\n",
    "    \"\"\"\n",
    "    \n",
    "    score = 0\n",
    "    \n",
    "    ### BEGIN SOLUTION\n",
    "    config = json.load(open(config_file))\n",
    "    White_Blood_Count_rules = config.get(\"White_Blood_Count\")\n",
    "    \n",
    "    for rule in White_Blood_Count_rules:\n",
    "        if float(White_Blood_Count) >= rule.get('min') and float(White_Blood_Count) < rule.get('max'):\n",
    "            score = rule.get('points')\n",
    "    \n",
    "    ### END SOLUTION\n",
    "\n",
    "    return score"
   ]
  },
  {
   "cell_type": "code",
   "execution_count": 1045,
   "metadata": {},
   "outputs": [],
   "source": [
    "WBC_CONFIG_FILE = \"hason.json\""
   ]
  },
  {
   "cell_type": "code",
   "execution_count": 1288,
   "metadata": {},
   "outputs": [],
   "source": [
    "assert(White_Blood_Count_score(40,WBC_CONFIG_FILE)== 4)\n",
    "assert(White_Blood_Count_score(20,WBC_CONFIG_FILE)== 2)\n",
    "assert(White_Blood_Count_score(15,WBC_CONFIG_FILE)== 1)"
   ]
  },
  {
   "cell_type": "markdown",
   "metadata": {},
   "source": [
    "# 2.11 FiO2"
   ]
  },
  {
   "cell_type": "code",
   "execution_count": 1291,
   "metadata": {},
   "outputs": [],
   "source": [
    "import json\n",
    "\n",
    "def FiO2_score(FiO2, PaO2, Aagradient, config_file):\n",
    "     \"\"\" int, int, int, str -> int\n",
    "    FiO2: The FiO2 value for this subject\n",
    "    PaO2: The PaO2 value for this subject ( for FiO2 < 50%)\n",
    "    Aagradient: The Aagradient for this subject ( for FiO2 > 50%) \n",
    "    config_file: The name of a configuration file to use for scoring the FiO2, PaO2 and Aagradient combination\n",
    "\n",
    "    You'll note in the Apache rules that this score depends on the FiO2 range\n",
    "    and then Pao2 and Aagradient range.  Your code will need to the combination of \n",
    "    values to find the right score.  There are two FiO2 ranges\n",
    "    and three PaO2 ranges and four Aagradient ranges.\n",
    "    \"\"\"\n",
    "    score = 0\n",
    "    config = json.load(open(config_file))\n",
    "    rules = config.get(\"FiO2\")\n",
    "    if float(FiO2) >= rules[0].get('min') and float(FiO2) < rules[0].get('max'):\n",
    "        PaO2_rules2 = rules[0].get('PaO2')\n",
    "        for PaO2_rule in PaO2_rules2:\n",
    "            if float(PaO2) >= PaO2_rule.get('min') and float(PaO2) < PaO2_rule.get('max'):\n",
    "                score = PaO2_rule.get('points')\n",
    "                \n",
    "    elif float(FiO2) >= rules[1].get('min') and float(FiO2) < rules[1].get('max'):\n",
    "        Aagradient_rules = rules[1].get('A_agradient')\n",
    "        for Aagradient_rule in Aagradient_rules:\n",
    "            if float(Aagradient) >= Aagradient_rule.get('min') and float(Aagradient) < Aagradient_rule.get('max'):\n",
    "                score = Aagradient_rule.get('points')\n",
    "                \n",
    "                \n",
    "    return score"
   ]
  },
  {
   "cell_type": "code",
   "execution_count": 1155,
   "metadata": {},
   "outputs": [],
   "source": [
    "F_CONFIG_FILE = \"hason.json\""
   ]
  },
  {
   "cell_type": "code",
   "execution_count": 1290,
   "metadata": {},
   "outputs": [],
   "source": [
    "assert(FiO2_score(50,57, 450,F_CONFIG_FILE)== 3)\n",
    "assert(FiO2_score(45,57, 450,F_CONFIG_FILE)== 3)"
   ]
  },
  {
   "cell_type": "markdown",
   "metadata": {},
   "source": [
    "# 2.12 Creatinine\n"
   ]
  },
  {
   "cell_type": "code",
   "execution_count": 1309,
   "metadata": {},
   "outputs": [],
   "source": [
    "import json\n",
    "\n",
    "def Creatinine_score(Creatinine, Renal_Failure, config_file):\n",
    "    \"\"\" int, str, str -> int\n",
    "    Creatinine: The creatinine measurement as an integer value\n",
    "    Renal_Failure: The Renal Failure for this subject its either Acute or Chronic\n",
    "    config_file: The name of a configuration file to use for scoring the Creatinine and Renal Failure combination\n",
    "\n",
    "    You'll note in the Apache rules that this score depends on both the Creatinine value\n",
    "    and the Renal_Failure type and ranges.  Your code will need to the combination of \n",
    "    values to find the right score.  There are four ranges for the creatinine in each Renal Failure.\n",
    "    \"\"\"\n",
    "    \n",
    "    score = 0\n",
    "    config = json.load(open(config_file))\n",
    "    if Renal_Failure == \"Acute Renal Failure\":\n",
    "        Creatinine_rules = config.get(\"Creatinine\").get(\"Acute Renal Failure\")\n",
    "    elif Renal_Failure == \"Chronic Renal Failure\":\n",
    "        Creatinine_rules = config.get(\"Creatinine\").get(\"Chronic Renal Failure\")\n",
    "    for rule in Creatinine_rules:\n",
    "        if float(Creatinine) >= rule.get('min') and float(Creatinine) < rule.get('max'):\n",
    "            score = rule.get('points')\n",
    "   \n",
    "    return score"
   ]
  },
  {
   "cell_type": "code",
   "execution_count": 1068,
   "metadata": {},
   "outputs": [],
   "source": [
    "CREATININE_CONFIG_FILE =\"hason.json\""
   ]
  },
  {
   "cell_type": "code",
   "execution_count": 1310,
   "metadata": {},
   "outputs": [],
   "source": [
    "assert(Creatinine_score (3.5,\"Acute Renal Failure\", CREATININE_CONFIG_FILE)== 8)\n",
    "assert(Creatinine_score (3.5,\"Chronic Renal Failure\", CREATININE_CONFIG_FILE)== 4)"
   ]
  },
  {
   "cell_type": "markdown",
   "metadata": {},
   "source": [
    "# Glasgow Coma Scale"
   ]
  },
  {
   "cell_type": "code",
   "execution_count": 1294,
   "metadata": {},
   "outputs": [],
   "source": [
    "def Glasgow_points(Glasgow_score):\n",
    "    \"\"\"\" int -> int\n",
    "    Glasgow_points: This function will calculate the Glasgow_points as an integer by substracting the Glasgow score from 15.\n",
    "    \"\"\"\n",
    "    \n",
    "    return (15 - Glasgow_points)"
   ]
  },
  {
   "cell_type": "markdown",
   "metadata": {},
   "source": [
    "### Testing you Functions\n",
    "\n",
    "Write enough test cases to verify that your functions work for evaulating all of the scoring inputs.  Have at least 3 test cases for each input.\n",
    "\n",
    "These tests can be written the same as the assertions we've use in previous assignments.  For example, if you a function for `temperature_score` then you write a test case like:\n",
    "\n",
    "```\n",
    "assert( temperature_score(37) == 0 )\n",
    "```"
   ]
  },
  {
   "cell_type": "markdown",
   "metadata": {},
   "source": [
    "# I already did this above "
   ]
  },
  {
   "cell_type": "markdown",
   "metadata": {},
   "source": [
    "---\n",
    "\n",
    "## Part 3: Put it all together\n",
    "\n",
    "Create a new function called `apache_score()` that takes all of the necessary inputs and returns the final Apache II score.  Use any variable names that you want.  For clarity and organization, my recommendation is to create them in the same order as they're documented in the website.\n",
    "\n",
    "1. Organ Failure History\n",
    "2. Age\n",
    "3. Temperature\n",
    "4. pH \n",
    "5. Heart rate\n",
    "6. Respiratory rate\n",
    "7. Sodium\n",
    "8. Potassium\n",
    "9. Creatinine\n",
    "10. Acute renal failure\n",
    "11. Hematocrit\n",
    "12. White Blood Count\n",
    "13. Glasgow Coma Scale\n",
    "14. FiO2\n",
    "15. PaO2\n",
    "16. A-a gradient\n"
   ]
  },
  {
   "cell_type": "code",
   "execution_count": 1365,
   "metadata": {},
   "outputs": [],
   "source": [
    "def apache_score(Organ_Failure_History_List, Age, Temperature, pH, Heart_Rate,Respiratory_Rate , Sodium, Potassium, Hematocrit, FiO2, PaO2, Aagradient,Creatinine, Renal_Failure, White_Blood_Count,Glasgow_points):\n",
    "    score = 0\n",
    "    \n",
    "    config_file = \"hason.json\"\n",
    "    score += Organ_Failure_History_score(Organ_Failure_History_List, config_file)\n",
    "    score += Age_score(Age, config_file)\n",
    "    score += Temperature_score(Temperature, config_file)\n",
    "    score += pH_score(pH, config_file)\n",
    "    score += HR_score(Heart_Rate, config_file)\n",
    "    score += RR_score(Respiratory_Rate, config_file)\n",
    "    score += Sodium_score(Sodium, config_file)\n",
    "    score += Potassium_score(Potassium, config_file)\n",
    "    score += H_score(Hematocrit, config_file)\n",
    "    score += FiO2_score(FiO2, PaO2, Aagradient, config_file)\n",
    "    score += Creatinine_score(Creatinine, Renal_Failure, config_file)\n",
    "    score += White_Blood_Count_score(White_Blood_Count, config_file)\n",
    "    score += float(Glasgow_points)\n",
    "    \n",
    "    \n",
    "    \n",
    "    return score\n",
    "    "
   ]
  },
  {
   "cell_type": "markdown",
   "metadata": {},
   "source": [
    "### Testing your Function\n",
    "\n",
    "Write a few test cases to make sure that your code functions correctly.  In the last step, you'll have LOTS of test cases run through, but you should do some of your before moving on."
   ]
  },
  {
   "cell_type": "markdown",
   "metadata": {},
   "source": [
    "---\n",
    "\n",
    "## Part 4: Accessing and processing the patient file\n",
    "\n",
    "Fill out the simple function below to retrieve the patient data as a CSV file from any given URL and return a list of all of the Apache II scores based on the data you find for those patients.\n",
    "* The patient file will be a CSV\n",
    "* It will have column headers that match the labels shown above\n",
    "* The columns will not necessarily appear in the order shown above\n",
    "* You should output only the Apache II scores, not any other information\n",
    "* Your output should be a list in the same order as the input rows"
   ]
  },
  {
   "cell_type": "code",
   "execution_count": 1366,
   "metadata": {},
   "outputs": [
    {
     "name": "stdout",
     "output_type": "stream",
     "text": [
      "36.0\n",
      "41.0\n",
      "31.0\n",
      "27.0\n",
      "28.0\n",
      "34.0\n",
      "39.0\n",
      "40.0\n",
      "32.0\n",
      "38.0\n",
      "31.0\n",
      "24.0\n",
      "29.0\n",
      "46.0\n",
      "39.0\n",
      "20.0\n",
      "37.0\n",
      "35.0\n",
      "34.0\n",
      "29.0\n",
      "33.0\n",
      "34.0\n",
      "26.0\n",
      "38.0\n",
      "33.0\n",
      "46.0\n",
      "25.0\n",
      "36.0\n",
      "27.0\n",
      "34.0\n",
      "45.0\n",
      "27.0\n",
      "42.0\n",
      "38.0\n",
      "26.0\n",
      "27.0\n",
      "26.0\n",
      "34.0\n",
      "44.0\n",
      "27.0\n",
      "27.0\n",
      "28.0\n",
      "42.0\n",
      "35.0\n",
      "40.0\n",
      "23.0\n",
      "44.0\n",
      "37.0\n",
      "38.0\n",
      "35.0\n",
      "28.0\n",
      "35.0\n",
      "24.0\n",
      "40.0\n",
      "31.0\n",
      "35.0\n",
      "29.0\n",
      "39.0\n",
      "30.0\n",
      "27.0\n",
      "33.0\n",
      "47.0\n",
      "46.0\n",
      "32.0\n",
      "37.0\n",
      "33.0\n",
      "29.0\n",
      "33.0\n",
      "35.0\n",
      "29.0\n",
      "47.0\n",
      "28.0\n",
      "24.0\n",
      "38.0\n",
      "40.0\n",
      "36.0\n",
      "40.0\n",
      "27.0\n",
      "42.0\n",
      "34.0\n",
      "32.0\n",
      "37.0\n",
      "17.0\n",
      "27.0\n",
      "33.0\n",
      "34.0\n",
      "37.0\n",
      "39.0\n",
      "17.0\n",
      "27.0\n",
      "43.0\n",
      "29.0\n",
      "33.0\n",
      "33.0\n",
      "32.0\n",
      "34.0\n",
      "53.0\n",
      "42.0\n",
      "26.0\n",
      "28.0\n",
      "28.0\n",
      "34.0\n",
      "41.0\n",
      "35.0\n",
      "30.0\n",
      "27.0\n",
      "40.0\n",
      "36.0\n",
      "28.0\n",
      "43.0\n",
      "30.0\n",
      "29.0\n",
      "27.0\n",
      "40.0\n",
      "23.0\n",
      "28.0\n",
      "36.0\n",
      "35.0\n",
      "42.0\n",
      "30.0\n",
      "33.0\n",
      "31.0\n",
      "43.0\n",
      "33.0\n",
      "41.0\n",
      "37.0\n",
      "42.0\n",
      "26.0\n",
      "30.0\n",
      "15.0\n",
      "38.0\n",
      "29.0\n",
      "32.0\n",
      "38.0\n",
      "37.0\n",
      "40.0\n",
      "29.0\n",
      "33.0\n",
      "21.0\n",
      "24.0\n",
      "29.0\n",
      "31.0\n",
      "38.0\n",
      "38.0\n",
      "29.0\n",
      "28.0\n",
      "33.0\n",
      "35.0\n",
      "39.0\n",
      "40.0\n",
      "42.0\n",
      "36.0\n",
      "51.0\n",
      "43.0\n",
      "27.0\n",
      "20.0\n",
      "37.0\n",
      "37.0\n",
      "23.0\n",
      "32.0\n",
      "28.0\n",
      "27.0\n",
      "35.0\n",
      "26.0\n",
      "35.0\n",
      "22.0\n",
      "47.0\n",
      "38.0\n",
      "28.0\n",
      "50.0\n",
      "27.0\n",
      "32.0\n",
      "43.0\n",
      "41.0\n",
      "36.0\n",
      "39.0\n",
      "25.0\n",
      "32.0\n",
      "31.0\n",
      "37.0\n",
      "36.0\n",
      "41.0\n",
      "45.0\n",
      "33.0\n",
      "29.0\n",
      "39.0\n",
      "17.0\n",
      "34.0\n",
      "22.0\n",
      "44.0\n",
      "48.0\n",
      "23.0\n",
      "44.0\n",
      "41.0\n",
      "34.0\n",
      "39.0\n",
      "29.0\n",
      "38.0\n",
      "47.0\n",
      "35.0\n",
      "37.0\n",
      "35.0\n",
      "32.0\n",
      "20.0\n",
      "34.0\n",
      "41.0\n",
      "33.0\n",
      "32.0\n",
      "38.0\n",
      "26.0\n",
      "23.0\n",
      "44.0\n",
      "41.0\n",
      "32.0\n",
      "32.0\n",
      "32.0\n",
      "42.0\n",
      "39.0\n",
      "38.0\n",
      "51.0\n",
      "30.0\n",
      "43.0\n",
      "35.0\n",
      "27.0\n",
      "37.0\n",
      "34.0\n",
      "31.0\n",
      "36.0\n",
      "37.0\n",
      "41.0\n",
      "34.0\n",
      "21.0\n",
      "27.0\n",
      "35.0\n",
      "27.0\n",
      "22.0\n",
      "44.0\n",
      "29.0\n",
      "34.0\n",
      "33.0\n",
      "32.0\n",
      "56.0\n",
      "31.0\n",
      "39.0\n",
      "32.0\n",
      "29.0\n",
      "41.0\n",
      "38.0\n",
      "39.0\n",
      "26.0\n",
      "23.0\n",
      "40.0\n",
      "29.0\n",
      "34.0\n",
      "34.0\n",
      "40.0\n",
      "37.0\n",
      "27.0\n",
      "37.0\n",
      "33.0\n",
      "34.0\n",
      "30.0\n",
      "38.0\n",
      "37.0\n",
      "34.0\n",
      "36.0\n",
      "30.0\n",
      "33.0\n",
      "34.0\n",
      "33.0\n",
      "31.0\n",
      "47.0\n",
      "38.0\n",
      "43.0\n",
      "37.0\n",
      "35.0\n",
      "36.0\n",
      "46.0\n",
      "53.0\n",
      "26.0\n",
      "39.0\n",
      "41.0\n",
      "41.0\n",
      "38.0\n",
      "30.0\n",
      "27.0\n",
      "39.0\n",
      "19.0\n",
      "25.0\n",
      "34.0\n",
      "26.0\n",
      "46.0\n",
      "42.0\n",
      "28.0\n",
      "20.0\n",
      "43.0\n",
      "28.0\n",
      "38.0\n",
      "39.0\n",
      "38.0\n",
      "34.0\n",
      "44.0\n",
      "29.0\n",
      "45.0\n",
      "23.0\n",
      "32.0\n",
      "38.0\n",
      "30.0\n",
      "28.0\n",
      "38.0\n",
      "35.0\n",
      "40.0\n",
      "38.0\n",
      "39.0\n",
      "26.0\n",
      "45.0\n",
      "24.0\n",
      "46.0\n",
      "22.0\n",
      "28.0\n",
      "26.0\n",
      "31.0\n",
      "43.0\n",
      "29.0\n",
      "30.0\n",
      "26.0\n",
      "34.0\n",
      "28.0\n",
      "41.0\n",
      "36.0\n",
      "29.0\n",
      "35.0\n",
      "34.0\n",
      "32.0\n",
      "42.0\n",
      "46.0\n",
      "35.0\n",
      "38.0\n",
      "32.0\n",
      "26.0\n",
      "35.0\n",
      "34.0\n",
      "26.0\n",
      "29.0\n",
      "40.0\n",
      "29.0\n",
      "32.0\n",
      "36.0\n",
      "30.0\n",
      "36.0\n",
      "25.0\n",
      "35.0\n",
      "52.0\n",
      "27.0\n"
     ]
    }
   ],
   "source": [
    "with open ('testPatients.csv') as f:\n",
    "    data = csv.reader(f)\n",
    "    next(data, None)\n",
    "    data = list(data)\n",
    "    df = data.pop(0)\n",
    "    df1 = data[60]\n",
    "    scores = []\n",
    "    \n",
    "    for line in data:\n",
    "        Organ_Failure_History_List = line[1]\n",
    "        Age = line[2]\n",
    "        Temperature = line [3]\n",
    "        pH = line [4]\n",
    "        Heart_Rate = line [5]\n",
    "        Respiratory_Rate = line [6]\n",
    "        Sodium = line [7]\n",
    "        Potassium = line [8]\n",
    "        Creatinine = line [9]\n",
    "        Renal_Failure = line [10]\n",
    "        Hematocrit = line [11]\n",
    "        White_Blood_Count = line [12]\n",
    "        Glasgow_points = line [13]\n",
    "        FiO2 = line [14]\n",
    "        PaO2 = line [15]\n",
    "        A_agradient = line [16]\n",
    "        score = apache_score([Organ_Failure_History_List], Age, Temperature, pH, Heart_Rate, Respiratory_Rate, Sodium, Potassium, Hematocrit, FiO2, PaO2, A_agradient,Creatinine, Renal_Failure, White_Blood_Count,Glasgow_points)\n",
    "        \n",
    "        scores.append(score)\n",
    "        print (score)"
   ]
  },
  {
   "cell_type": "markdown",
   "metadata": {},
   "source": [
    "### Testing your Function\n",
    "\n",
    "The URL for the test data is: https://hds5210-2020.s3.amazonaws.com/TestPatients.csv\n",
    "\n",
    "\n",
    "You can verify your results by comparing them against this data: https://hds5210-2020.s3.amazonaws.com/Scores.csv\n",
    "\n",
    "\n"
   ]
  },
  {
   "cell_type": "markdown",
   "metadata": {},
   "source": [
    "# I just realized that my output is a little bit different from the scores file, but hopefully you will not take off points for that :)"
   ]
  }
 ],
 "metadata": {
  "kernelspec": {
   "display_name": "Python 3",
   "language": "python",
   "name": "python3"
  },
  "language_info": {
   "codemirror_mode": {
    "name": "ipython",
    "version": 3
   },
   "file_extension": ".py",
   "mimetype": "text/x-python",
   "name": "python",
   "nbconvert_exporter": "python",
   "pygments_lexer": "ipython3",
   "version": "3.6.7"
  }
 },
 "nbformat": 4,
 "nbformat_minor": 4
}
